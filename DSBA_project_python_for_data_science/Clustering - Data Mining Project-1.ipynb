{
 "cells": [
  {
   "cell_type": "markdown",
   "metadata": {},
   "source": [
    "# Problem Statement"
   ]
  },
  {
   "cell_type": "markdown",
   "metadata": {},
   "source": [
    "## Digital Ads data\n",
    "\n",
    "> The ads24x7 is a Digital Marketing company which has now got seed funding of `$10 Million`.They are expanding their wings in Marketing Analytics. They collected data from their Marketing Intelligence team and now wants you (their newly appointed data analyst) to works wonders to segment type of ads based on the variables provided. Use Clustering to segment."
   ]
  },
  {
   "cell_type": "code",
   "execution_count": 1,
   "metadata": {},
   "outputs": [],
   "source": [
    "import pandas as pd\n",
    "\n",
    "import numpy as np\n",
    "\n",
    "import seaborn as sns\n",
    "\n",
    "from matplotlib import pyplot as plt\n",
    "\n"
   ]
  },
  {
   "cell_type": "code",
   "execution_count": 2,
   "metadata": {},
   "outputs": [],
   "source": [
    "# Supress Warnings\n",
    "\n",
    "import warnings\n",
    "warnings.filterwarnings('ignore')"
   ]
  },
  {
   "cell_type": "code",
   "execution_count": 3,
   "metadata": {},
   "outputs": [],
   "source": [
    "import matplotlib.pylab as pylab\n",
    "params = {\n",
    "         'axes.labelsize': 'x-large',\n",
    "         'axes.titlesize':'x-large',\n",
    "         'xtick.labelsize':'x-large',\n",
    "         'ytick.labelsize':'x-large'}\n",
    "pylab.rcParams.update(params)"
   ]
  },
  {
   "cell_type": "code",
   "execution_count": 4,
   "metadata": {},
   "outputs": [],
   "source": [
    "df = pd.read_excel('C:/GL/DM/Data Mining New Projects/Data Mining New Projects/Clustering Clean Ads_Data.xlsx')"
   ]
  },
  {
   "cell_type": "code",
   "execution_count": 5,
   "metadata": {
    "scrolled": true
   },
   "outputs": [
    {
     "data": {
      "text/html": [
       "<div>\n",
       "<style scoped>\n",
       "    .dataframe tbody tr th:only-of-type {\n",
       "        vertical-align: middle;\n",
       "    }\n",
       "\n",
       "    .dataframe tbody tr th {\n",
       "        vertical-align: top;\n",
       "    }\n",
       "\n",
       "    .dataframe thead th {\n",
       "        text-align: right;\n",
       "    }\n",
       "</style>\n",
       "<table border=\"1\" class=\"dataframe\">\n",
       "  <thead>\n",
       "    <tr style=\"text-align: right;\">\n",
       "      <th></th>\n",
       "      <th>0</th>\n",
       "      <th>1</th>\n",
       "      <th>2</th>\n",
       "      <th>3</th>\n",
       "      <th>4</th>\n",
       "    </tr>\n",
       "  </thead>\n",
       "  <tbody>\n",
       "    <tr>\n",
       "      <th>Timestamp</th>\n",
       "      <td>2020-9-2-17</td>\n",
       "      <td>2020-9-2-10</td>\n",
       "      <td>2020-9-1-22</td>\n",
       "      <td>2020-9-3-20</td>\n",
       "      <td>2020-9-4-15</td>\n",
       "    </tr>\n",
       "    <tr>\n",
       "      <th>InventoryType</th>\n",
       "      <td>Format1</td>\n",
       "      <td>Format1</td>\n",
       "      <td>Format1</td>\n",
       "      <td>Format1</td>\n",
       "      <td>Format1</td>\n",
       "    </tr>\n",
       "    <tr>\n",
       "      <th>Ad - Length</th>\n",
       "      <td>300</td>\n",
       "      <td>300</td>\n",
       "      <td>300</td>\n",
       "      <td>300</td>\n",
       "      <td>300</td>\n",
       "    </tr>\n",
       "    <tr>\n",
       "      <th>Ad- Width</th>\n",
       "      <td>250</td>\n",
       "      <td>250</td>\n",
       "      <td>250</td>\n",
       "      <td>250</td>\n",
       "      <td>250</td>\n",
       "    </tr>\n",
       "    <tr>\n",
       "      <th>Ad Size</th>\n",
       "      <td>75000</td>\n",
       "      <td>75000</td>\n",
       "      <td>75000</td>\n",
       "      <td>75000</td>\n",
       "      <td>75000</td>\n",
       "    </tr>\n",
       "    <tr>\n",
       "      <th>Ad Type</th>\n",
       "      <td>Inter222</td>\n",
       "      <td>Inter227</td>\n",
       "      <td>Inter222</td>\n",
       "      <td>Inter228</td>\n",
       "      <td>Inter217</td>\n",
       "    </tr>\n",
       "    <tr>\n",
       "      <th>Platform</th>\n",
       "      <td>Video</td>\n",
       "      <td>App</td>\n",
       "      <td>Video</td>\n",
       "      <td>Video</td>\n",
       "      <td>Web</td>\n",
       "    </tr>\n",
       "    <tr>\n",
       "      <th>Device Type</th>\n",
       "      <td>Desktop</td>\n",
       "      <td>Mobile</td>\n",
       "      <td>Desktop</td>\n",
       "      <td>Mobile</td>\n",
       "      <td>Desktop</td>\n",
       "    </tr>\n",
       "    <tr>\n",
       "      <th>Format</th>\n",
       "      <td>Display</td>\n",
       "      <td>Video</td>\n",
       "      <td>Display</td>\n",
       "      <td>Video</td>\n",
       "      <td>Video</td>\n",
       "    </tr>\n",
       "    <tr>\n",
       "      <th>Available_Impressions</th>\n",
       "      <td>1806</td>\n",
       "      <td>1780</td>\n",
       "      <td>2727</td>\n",
       "      <td>2430</td>\n",
       "      <td>1218</td>\n",
       "    </tr>\n",
       "    <tr>\n",
       "      <th>Matched_Queries</th>\n",
       "      <td>325</td>\n",
       "      <td>285</td>\n",
       "      <td>356</td>\n",
       "      <td>497</td>\n",
       "      <td>242</td>\n",
       "    </tr>\n",
       "    <tr>\n",
       "      <th>Impressions</th>\n",
       "      <td>323</td>\n",
       "      <td>285</td>\n",
       "      <td>355</td>\n",
       "      <td>495</td>\n",
       "      <td>242</td>\n",
       "    </tr>\n",
       "    <tr>\n",
       "      <th>Clicks</th>\n",
       "      <td>1</td>\n",
       "      <td>1</td>\n",
       "      <td>1</td>\n",
       "      <td>1</td>\n",
       "      <td>1</td>\n",
       "    </tr>\n",
       "    <tr>\n",
       "      <th>Spend</th>\n",
       "      <td>0.0</td>\n",
       "      <td>0.0</td>\n",
       "      <td>0.0</td>\n",
       "      <td>0.0</td>\n",
       "      <td>0.0</td>\n",
       "    </tr>\n",
       "    <tr>\n",
       "      <th>Fee</th>\n",
       "      <td>0.35</td>\n",
       "      <td>0.35</td>\n",
       "      <td>0.35</td>\n",
       "      <td>0.35</td>\n",
       "      <td>0.35</td>\n",
       "    </tr>\n",
       "    <tr>\n",
       "      <th>Revenue</th>\n",
       "      <td>0.0</td>\n",
       "      <td>0.0</td>\n",
       "      <td>0.0</td>\n",
       "      <td>0.0</td>\n",
       "      <td>0.0</td>\n",
       "    </tr>\n",
       "    <tr>\n",
       "      <th>CTR</th>\n",
       "      <td>0.0031</td>\n",
       "      <td>0.0035</td>\n",
       "      <td>0.0028</td>\n",
       "      <td>0.002</td>\n",
       "      <td>0.0041</td>\n",
       "    </tr>\n",
       "    <tr>\n",
       "      <th>CPM</th>\n",
       "      <td>0.0</td>\n",
       "      <td>0.0</td>\n",
       "      <td>0.0</td>\n",
       "      <td>0.0</td>\n",
       "      <td>0.0</td>\n",
       "    </tr>\n",
       "    <tr>\n",
       "      <th>CPC</th>\n",
       "      <td>0.0</td>\n",
       "      <td>0.0</td>\n",
       "      <td>0.0</td>\n",
       "      <td>0.0</td>\n",
       "      <td>0.0</td>\n",
       "    </tr>\n",
       "  </tbody>\n",
       "</table>\n",
       "</div>"
      ],
      "text/plain": [
       "                                 0            1            2            3  \\\n",
       "Timestamp              2020-9-2-17  2020-9-2-10  2020-9-1-22  2020-9-3-20   \n",
       "InventoryType              Format1      Format1      Format1      Format1   \n",
       "Ad - Length                    300          300          300          300   \n",
       "Ad- Width                      250          250          250          250   \n",
       "Ad Size                      75000        75000        75000        75000   \n",
       "Ad Type                   Inter222     Inter227     Inter222     Inter228   \n",
       "Platform                     Video          App        Video        Video   \n",
       "Device Type                Desktop       Mobile      Desktop       Mobile   \n",
       "Format                     Display        Video      Display        Video   \n",
       "Available_Impressions         1806         1780         2727         2430   \n",
       "Matched_Queries                325          285          356          497   \n",
       "Impressions                    323          285          355          495   \n",
       "Clicks                           1            1            1            1   \n",
       "Spend                          0.0          0.0          0.0          0.0   \n",
       "Fee                           0.35         0.35         0.35         0.35   \n",
       "Revenue                        0.0          0.0          0.0          0.0   \n",
       "CTR                         0.0031       0.0035       0.0028        0.002   \n",
       "CPM                            0.0          0.0          0.0          0.0   \n",
       "CPC                            0.0          0.0          0.0          0.0   \n",
       "\n",
       "                                 4  \n",
       "Timestamp              2020-9-4-15  \n",
       "InventoryType              Format1  \n",
       "Ad - Length                    300  \n",
       "Ad- Width                      250  \n",
       "Ad Size                      75000  \n",
       "Ad Type                   Inter217  \n",
       "Platform                       Web  \n",
       "Device Type                Desktop  \n",
       "Format                       Video  \n",
       "Available_Impressions         1218  \n",
       "Matched_Queries                242  \n",
       "Impressions                    242  \n",
       "Clicks                           1  \n",
       "Spend                          0.0  \n",
       "Fee                           0.35  \n",
       "Revenue                        0.0  \n",
       "CTR                         0.0041  \n",
       "CPM                            0.0  \n",
       "CPC                            0.0  "
      ]
     },
     "execution_count": 5,
     "metadata": {},
     "output_type": "execute_result"
    }
   ],
   "source": [
    "df.head().T"
   ]
  },
  {
   "cell_type": "code",
   "execution_count": 6,
   "metadata": {},
   "outputs": [
    {
     "name": "stdout",
     "output_type": "stream",
     "text": [
      "<class 'pandas.core.frame.DataFrame'>\n",
      "RangeIndex: 23066 entries, 0 to 23065\n",
      "Data columns (total 19 columns):\n",
      " #   Column                 Non-Null Count  Dtype  \n",
      "---  ------                 --------------  -----  \n",
      " 0   Timestamp              23066 non-null  object \n",
      " 1   InventoryType          23066 non-null  object \n",
      " 2   Ad - Length            23066 non-null  int64  \n",
      " 3   Ad- Width              23066 non-null  int64  \n",
      " 4   Ad Size                23066 non-null  int64  \n",
      " 5   Ad Type                23066 non-null  object \n",
      " 6   Platform               23066 non-null  object \n",
      " 7   Device Type            23066 non-null  object \n",
      " 8   Format                 23066 non-null  object \n",
      " 9   Available_Impressions  23066 non-null  int64  \n",
      " 10  Matched_Queries        23066 non-null  int64  \n",
      " 11  Impressions            23066 non-null  int64  \n",
      " 12  Clicks                 23066 non-null  int64  \n",
      " 13  Spend                  23066 non-null  float64\n",
      " 14  Fee                    23066 non-null  float64\n",
      " 15  Revenue                23066 non-null  float64\n",
      " 16  CTR                    18330 non-null  float64\n",
      " 17  CPM                    18330 non-null  float64\n",
      " 18  CPC                    18330 non-null  float64\n",
      "dtypes: float64(6), int64(7), object(6)\n",
      "memory usage: 3.3+ MB\n"
     ]
    }
   ],
   "source": [
    "df.info()"
   ]
  },
  {
   "cell_type": "code",
   "execution_count": 7,
   "metadata": {},
   "outputs": [
    {
     "data": {
      "text/plain": [
       "Timestamp                 object\n",
       "InventoryType             object\n",
       "Ad - Length                int64\n",
       "Ad- Width                  int64\n",
       "Ad Size                    int64\n",
       "Ad Type                   object\n",
       "Platform                  object\n",
       "Device Type               object\n",
       "Format                    object\n",
       "Available_Impressions      int64\n",
       "Matched_Queries            int64\n",
       "Impressions                int64\n",
       "Clicks                     int64\n",
       "Spend                    float64\n",
       "Fee                      float64\n",
       "Revenue                  float64\n",
       "CTR                      float64\n",
       "CPM                      float64\n",
       "CPC                      float64\n",
       "dtype: object"
      ]
     },
     "execution_count": 7,
     "metadata": {},
     "output_type": "execute_result"
    }
   ],
   "source": [
    "df.dtypes"
   ]
  },
  {
   "cell_type": "code",
   "execution_count": 8,
   "metadata": {},
   "outputs": [
    {
     "data": {
      "text/html": [
       "<div>\n",
       "<style scoped>\n",
       "    .dataframe tbody tr th:only-of-type {\n",
       "        vertical-align: middle;\n",
       "    }\n",
       "\n",
       "    .dataframe tbody tr th {\n",
       "        vertical-align: top;\n",
       "    }\n",
       "\n",
       "    .dataframe thead th {\n",
       "        text-align: right;\n",
       "    }\n",
       "</style>\n",
       "<table border=\"1\" class=\"dataframe\">\n",
       "  <thead>\n",
       "    <tr style=\"text-align: right;\">\n",
       "      <th></th>\n",
       "      <th>count</th>\n",
       "      <th>mean</th>\n",
       "      <th>std</th>\n",
       "      <th>min</th>\n",
       "      <th>25%</th>\n",
       "      <th>50%</th>\n",
       "      <th>75%</th>\n",
       "      <th>max</th>\n",
       "    </tr>\n",
       "  </thead>\n",
       "  <tbody>\n",
       "    <tr>\n",
       "      <th>Ad - Length</th>\n",
       "      <td>23066.0</td>\n",
       "      <td>385.16</td>\n",
       "      <td>233.65</td>\n",
       "      <td>120.00</td>\n",
       "      <td>120.00</td>\n",
       "      <td>300.00</td>\n",
       "      <td>720.00</td>\n",
       "      <td>728.00</td>\n",
       "    </tr>\n",
       "    <tr>\n",
       "      <th>Ad- Width</th>\n",
       "      <td>23066.0</td>\n",
       "      <td>337.90</td>\n",
       "      <td>203.09</td>\n",
       "      <td>70.00</td>\n",
       "      <td>250.00</td>\n",
       "      <td>300.00</td>\n",
       "      <td>600.00</td>\n",
       "      <td>600.00</td>\n",
       "    </tr>\n",
       "    <tr>\n",
       "      <th>Ad Size</th>\n",
       "      <td>23066.0</td>\n",
       "      <td>96674.47</td>\n",
       "      <td>61538.33</td>\n",
       "      <td>33600.00</td>\n",
       "      <td>72000.00</td>\n",
       "      <td>72000.00</td>\n",
       "      <td>84000.00</td>\n",
       "      <td>216000.00</td>\n",
       "    </tr>\n",
       "    <tr>\n",
       "      <th>Available_Impressions</th>\n",
       "      <td>23066.0</td>\n",
       "      <td>2432043.67</td>\n",
       "      <td>4742887.76</td>\n",
       "      <td>1.00</td>\n",
       "      <td>33672.25</td>\n",
       "      <td>483771.00</td>\n",
       "      <td>2527711.75</td>\n",
       "      <td>27592861.00</td>\n",
       "    </tr>\n",
       "    <tr>\n",
       "      <th>Matched_Queries</th>\n",
       "      <td>23066.0</td>\n",
       "      <td>1295099.14</td>\n",
       "      <td>2512969.86</td>\n",
       "      <td>1.00</td>\n",
       "      <td>18282.50</td>\n",
       "      <td>258087.50</td>\n",
       "      <td>1180700.00</td>\n",
       "      <td>14702025.00</td>\n",
       "    </tr>\n",
       "    <tr>\n",
       "      <th>Impressions</th>\n",
       "      <td>23066.0</td>\n",
       "      <td>1241519.52</td>\n",
       "      <td>2429399.96</td>\n",
       "      <td>1.00</td>\n",
       "      <td>7990.50</td>\n",
       "      <td>225290.00</td>\n",
       "      <td>1112428.50</td>\n",
       "      <td>14194774.00</td>\n",
       "    </tr>\n",
       "    <tr>\n",
       "      <th>Clicks</th>\n",
       "      <td>23066.0</td>\n",
       "      <td>10678.52</td>\n",
       "      <td>17353.41</td>\n",
       "      <td>1.00</td>\n",
       "      <td>710.00</td>\n",
       "      <td>4425.00</td>\n",
       "      <td>12793.75</td>\n",
       "      <td>143049.00</td>\n",
       "    </tr>\n",
       "    <tr>\n",
       "      <th>Spend</th>\n",
       "      <td>23066.0</td>\n",
       "      <td>2706.63</td>\n",
       "      <td>4067.93</td>\n",
       "      <td>0.00</td>\n",
       "      <td>85.18</td>\n",
       "      <td>1425.12</td>\n",
       "      <td>3121.40</td>\n",
       "      <td>26931.87</td>\n",
       "    </tr>\n",
       "    <tr>\n",
       "      <th>Fee</th>\n",
       "      <td>23066.0</td>\n",
       "      <td>0.34</td>\n",
       "      <td>0.03</td>\n",
       "      <td>0.21</td>\n",
       "      <td>0.33</td>\n",
       "      <td>0.35</td>\n",
       "      <td>0.35</td>\n",
       "      <td>0.35</td>\n",
       "    </tr>\n",
       "    <tr>\n",
       "      <th>Revenue</th>\n",
       "      <td>23066.0</td>\n",
       "      <td>1924.25</td>\n",
       "      <td>3105.24</td>\n",
       "      <td>0.00</td>\n",
       "      <td>55.37</td>\n",
       "      <td>926.34</td>\n",
       "      <td>2091.34</td>\n",
       "      <td>21276.18</td>\n",
       "    </tr>\n",
       "    <tr>\n",
       "      <th>CTR</th>\n",
       "      <td>18330.0</td>\n",
       "      <td>0.07</td>\n",
       "      <td>0.08</td>\n",
       "      <td>0.00</td>\n",
       "      <td>0.00</td>\n",
       "      <td>0.08</td>\n",
       "      <td>0.13</td>\n",
       "      <td>1.00</td>\n",
       "    </tr>\n",
       "    <tr>\n",
       "      <th>CPM</th>\n",
       "      <td>18330.0</td>\n",
       "      <td>7.67</td>\n",
       "      <td>6.48</td>\n",
       "      <td>0.00</td>\n",
       "      <td>1.71</td>\n",
       "      <td>7.66</td>\n",
       "      <td>12.51</td>\n",
       "      <td>81.56</td>\n",
       "    </tr>\n",
       "    <tr>\n",
       "      <th>CPC</th>\n",
       "      <td>18330.0</td>\n",
       "      <td>0.35</td>\n",
       "      <td>0.34</td>\n",
       "      <td>0.00</td>\n",
       "      <td>0.09</td>\n",
       "      <td>0.16</td>\n",
       "      <td>0.57</td>\n",
       "      <td>7.26</td>\n",
       "    </tr>\n",
       "  </tbody>\n",
       "</table>\n",
       "</div>"
      ],
      "text/plain": [
       "                         count        mean         std       min       25%  \\\n",
       "Ad - Length            23066.0      385.16      233.65    120.00    120.00   \n",
       "Ad- Width              23066.0      337.90      203.09     70.00    250.00   \n",
       "Ad Size                23066.0    96674.47    61538.33  33600.00  72000.00   \n",
       "Available_Impressions  23066.0  2432043.67  4742887.76      1.00  33672.25   \n",
       "Matched_Queries        23066.0  1295099.14  2512969.86      1.00  18282.50   \n",
       "Impressions            23066.0  1241519.52  2429399.96      1.00   7990.50   \n",
       "Clicks                 23066.0    10678.52    17353.41      1.00    710.00   \n",
       "Spend                  23066.0     2706.63     4067.93      0.00     85.18   \n",
       "Fee                    23066.0        0.34        0.03      0.21      0.33   \n",
       "Revenue                23066.0     1924.25     3105.24      0.00     55.37   \n",
       "CTR                    18330.0        0.07        0.08      0.00      0.00   \n",
       "CPM                    18330.0        7.67        6.48      0.00      1.71   \n",
       "CPC                    18330.0        0.35        0.34      0.00      0.09   \n",
       "\n",
       "                             50%         75%          max  \n",
       "Ad - Length               300.00      720.00       728.00  \n",
       "Ad- Width                 300.00      600.00       600.00  \n",
       "Ad Size                 72000.00    84000.00    216000.00  \n",
       "Available_Impressions  483771.00  2527711.75  27592861.00  \n",
       "Matched_Queries        258087.50  1180700.00  14702025.00  \n",
       "Impressions            225290.00  1112428.50  14194774.00  \n",
       "Clicks                   4425.00    12793.75    143049.00  \n",
       "Spend                    1425.12     3121.40     26931.87  \n",
       "Fee                         0.35        0.35         0.35  \n",
       "Revenue                   926.34     2091.34     21276.18  \n",
       "CTR                         0.08        0.13         1.00  \n",
       "CPM                         7.66       12.51        81.56  \n",
       "CPC                         0.16        0.57         7.26  "
      ]
     },
     "execution_count": 8,
     "metadata": {},
     "output_type": "execute_result"
    }
   ],
   "source": [
    "np.round(df.describe(),2).T"
   ]
  },
  {
   "cell_type": "code",
   "execution_count": 9,
   "metadata": {},
   "outputs": [
    {
     "data": {
      "text/plain": [
       "0"
      ]
     },
     "execution_count": 9,
     "metadata": {},
     "output_type": "execute_result"
    }
   ],
   "source": [
    "df.duplicated().sum()"
   ]
  },
  {
   "cell_type": "code",
   "execution_count": 10,
   "metadata": {},
   "outputs": [
    {
     "data": {
      "image/png": "[encoded data removed]",
      "text/plain": [
       "<Figure size 432x288 with 1 Axes>"
      ]
     },
     "metadata": {
      "needs_background": "light"
     },
     "output_type": "display_data"
    }
   ],
   "source": [
    "df.isnull().sum()[df.isnull().sum()>0].plot(kind='bar')\n",
    "plt.title('Null Values');"
   ]
  },
  {
   "cell_type": "code",
   "execution_count": 11,
   "metadata": {},
   "outputs": [
    {
     "data": {
      "image/png": "[encoded data removed]",
      "text/plain": [
       "<Figure size 1440x720 with 1 Axes>"
      ]
     },
     "metadata": {
      "needs_background": "light"
     },
     "output_type": "display_data"
    }
   ],
   "source": [
    "df.boxplot(figsize=(20,10),rot=45)\n",
    "plt.show()"
   ]
  },
  {
   "cell_type": "code",
   "execution_count": 12,
   "metadata": {},
   "outputs": [
    {
     "data": {
      "text/plain": [
       "Timestamp                   0\n",
       "InventoryType               0\n",
       "Ad - Length                 0\n",
       "Ad- Width                   0\n",
       "Ad Size                     0\n",
       "Ad Type                     0\n",
       "Platform                    0\n",
       "Device Type                 0\n",
       "Format                      0\n",
       "Available_Impressions       0\n",
       "Matched_Queries             0\n",
       "Impressions                 0\n",
       "Clicks                      0\n",
       "Spend                       0\n",
       "Fee                         0\n",
       "Revenue                     0\n",
       "CTR                      4736\n",
       "CPM                      4736\n",
       "CPC                      4736\n",
       "dtype: int64"
      ]
     },
     "execution_count": 12,
     "metadata": {},
     "output_type": "execute_result"
    }
   ],
   "source": [
    "df.isnull().sum()"
   ]
  },
  {
   "cell_type": "markdown",
   "metadata": {},
   "source": [
    "## missing values treatment"
   ]
  },
  {
   "cell_type": "markdown",
   "metadata": {},
   "source": [
    "CPM = (Total Campaign Spend / Number of Impressions) * 1,000\n",
    "\n",
    "CPC = Total Cost / Number of Clicks\n",
    "\n",
    "CTR = Total Measured Clicks / Total Measured Ad Impressions x 100\n"
   ]
  },
  {
   "cell_type": "code",
   "execution_count": 13,
   "metadata": {},
   "outputs": [
    {
     "data": {
      "text/html": [
       "<div>\n",
       "<style scoped>\n",
       "    .dataframe tbody tr th:only-of-type {\n",
       "        vertical-align: middle;\n",
       "    }\n",
       "\n",
       "    .dataframe tbody tr th {\n",
       "        vertical-align: top;\n",
       "    }\n",
       "\n",
       "    .dataframe thead th {\n",
       "        text-align: right;\n",
       "    }\n",
       "</style>\n",
       "<table border=\"1\" class=\"dataframe\">\n",
       "  <thead>\n",
       "    <tr style=\"text-align: right;\">\n",
       "      <th></th>\n",
       "      <th>Timestamp</th>\n",
       "      <th>InventoryType</th>\n",
       "      <th>Ad - Length</th>\n",
       "      <th>Ad- Width</th>\n",
       "      <th>Ad Size</th>\n",
       "      <th>Ad Type</th>\n",
       "      <th>Platform</th>\n",
       "      <th>Device Type</th>\n",
       "      <th>Format</th>\n",
       "      <th>Available_Impressions</th>\n",
       "      <th>Matched_Queries</th>\n",
       "      <th>Impressions</th>\n",
       "      <th>Clicks</th>\n",
       "      <th>Spend</th>\n",
       "      <th>Fee</th>\n",
       "      <th>Revenue</th>\n",
       "      <th>CTR</th>\n",
       "      <th>CPM</th>\n",
       "      <th>CPC</th>\n",
       "    </tr>\n",
       "  </thead>\n",
       "  <tbody>\n",
       "    <tr>\n",
       "      <th>0</th>\n",
       "      <td>2020-9-2-17</td>\n",
       "      <td>Format1</td>\n",
       "      <td>300</td>\n",
       "      <td>250</td>\n",
       "      <td>75000</td>\n",
       "      <td>Inter222</td>\n",
       "      <td>Video</td>\n",
       "      <td>Desktop</td>\n",
       "      <td>Display</td>\n",
       "      <td>1806</td>\n",
       "      <td>325</td>\n",
       "      <td>323</td>\n",
       "      <td>1</td>\n",
       "      <td>0.0</td>\n",
       "      <td>0.35</td>\n",
       "      <td>0.0</td>\n",
       "      <td>0.0031</td>\n",
       "      <td>0.0</td>\n",
       "      <td>0.0</td>\n",
       "    </tr>\n",
       "    <tr>\n",
       "      <th>1</th>\n",
       "      <td>2020-9-2-10</td>\n",
       "      <td>Format1</td>\n",
       "      <td>300</td>\n",
       "      <td>250</td>\n",
       "      <td>75000</td>\n",
       "      <td>Inter227</td>\n",
       "      <td>App</td>\n",
       "      <td>Mobile</td>\n",
       "      <td>Video</td>\n",
       "      <td>1780</td>\n",
       "      <td>285</td>\n",
       "      <td>285</td>\n",
       "      <td>1</td>\n",
       "      <td>0.0</td>\n",
       "      <td>0.35</td>\n",
       "      <td>0.0</td>\n",
       "      <td>0.0035</td>\n",
       "      <td>0.0</td>\n",
       "      <td>0.0</td>\n",
       "    </tr>\n",
       "    <tr>\n",
       "      <th>2</th>\n",
       "      <td>2020-9-1-22</td>\n",
       "      <td>Format1</td>\n",
       "      <td>300</td>\n",
       "      <td>250</td>\n",
       "      <td>75000</td>\n",
       "      <td>Inter222</td>\n",
       "      <td>Video</td>\n",
       "      <td>Desktop</td>\n",
       "      <td>Display</td>\n",
       "      <td>2727</td>\n",
       "      <td>356</td>\n",
       "      <td>355</td>\n",
       "      <td>1</td>\n",
       "      <td>0.0</td>\n",
       "      <td>0.35</td>\n",
       "      <td>0.0</td>\n",
       "      <td>0.0028</td>\n",
       "      <td>0.0</td>\n",
       "      <td>0.0</td>\n",
       "    </tr>\n",
       "    <tr>\n",
       "      <th>3</th>\n",
       "      <td>2020-9-3-20</td>\n",
       "      <td>Format1</td>\n",
       "      <td>300</td>\n",
       "      <td>250</td>\n",
       "      <td>75000</td>\n",
       "      <td>Inter228</td>\n",
       "      <td>Video</td>\n",
       "      <td>Mobile</td>\n",
       "      <td>Video</td>\n",
       "      <td>2430</td>\n",
       "      <td>497</td>\n",
       "      <td>495</td>\n",
       "      <td>1</td>\n",
       "      <td>0.0</td>\n",
       "      <td>0.35</td>\n",
       "      <td>0.0</td>\n",
       "      <td>0.0020</td>\n",
       "      <td>0.0</td>\n",
       "      <td>0.0</td>\n",
       "    </tr>\n",
       "    <tr>\n",
       "      <th>4</th>\n",
       "      <td>2020-9-4-15</td>\n",
       "      <td>Format1</td>\n",
       "      <td>300</td>\n",
       "      <td>250</td>\n",
       "      <td>75000</td>\n",
       "      <td>Inter217</td>\n",
       "      <td>Web</td>\n",
       "      <td>Desktop</td>\n",
       "      <td>Video</td>\n",
       "      <td>1218</td>\n",
       "      <td>242</td>\n",
       "      <td>242</td>\n",
       "      <td>1</td>\n",
       "      <td>0.0</td>\n",
       "      <td>0.35</td>\n",
       "      <td>0.0</td>\n",
       "      <td>0.0041</td>\n",
       "      <td>0.0</td>\n",
       "      <td>0.0</td>\n",
       "    </tr>\n",
       "  </tbody>\n",
       "</table>\n",
       "</div>"
      ],
      "text/plain": [
       "     Timestamp InventoryType  Ad - Length  Ad- Width  Ad Size   Ad Type  \\\n",
       "0  2020-9-2-17       Format1          300        250    75000  Inter222   \n",
       "1  2020-9-2-10       Format1          300        250    75000  Inter227   \n",
       "2  2020-9-1-22       Format1          300        250    75000  Inter222   \n",
       "3  2020-9-3-20       Format1          300        250    75000  Inter228   \n",
       "4  2020-9-4-15       Format1          300        250    75000  Inter217   \n",
       "\n",
       "  Platform Device Type   Format  Available_Impressions  Matched_Queries  \\\n",
       "0    Video     Desktop  Display                   1806              325   \n",
       "1      App      Mobile    Video                   1780              285   \n",
       "2    Video     Desktop  Display                   2727              356   \n",
       "3    Video      Mobile    Video                   2430              497   \n",
       "4      Web     Desktop    Video                   1218              242   \n",
       "\n",
       "   Impressions  Clicks  Spend   Fee  Revenue     CTR  CPM  CPC  \n",
       "0          323       1    0.0  0.35      0.0  0.0031  0.0  0.0  \n",
       "1          285       1    0.0  0.35      0.0  0.0035  0.0  0.0  \n",
       "2          355       1    0.0  0.35      0.0  0.0028  0.0  0.0  \n",
       "3          495       1    0.0  0.35      0.0  0.0020  0.0  0.0  \n",
       "4          242       1    0.0  0.35      0.0  0.0041  0.0  0.0  "
      ]
     },
     "execution_count": 13,
     "metadata": {},
     "output_type": "execute_result"
    }
   ],
   "source": [
    "df.head()"
   ]
  },
  {
   "cell_type": "code",
   "execution_count": 14,
   "metadata": {},
   "outputs": [],
   "source": [
    "def calculate_ctr(x):\n",
    "    clicks = df.Clicks\n",
    "    impressions=df.Impressions\n",
    "    ctr = (clicks/impressions)*100\n",
    "    return ctr\n",
    "    "
   ]
  },
  {
   "cell_type": "code",
   "execution_count": 15,
   "metadata": {},
   "outputs": [],
   "source": [
    "def calculate_cpc(x):\n",
    "    spend=df.Spend\n",
    "    clicks = df.Clicks\n",
    "    cpc = (spend/clicks)\n",
    "    return cpc\n",
    "    "
   ]
  },
  {
   "cell_type": "code",
   "execution_count": 16,
   "metadata": {},
   "outputs": [],
   "source": [
    "def calculate_cpm(x):\n",
    "    spend=df.Spend\n",
    "    impressions=df.Impressions\n",
    "    cpm = (spend/impressions)*1000\n",
    "    return cpm\n",
    "    "
   ]
  },
  {
   "cell_type": "code",
   "execution_count": 17,
   "metadata": {},
   "outputs": [],
   "source": [
    "df['CTR'] = df[['CTR']].apply(lambda x: calculate_ctr(x))\n",
    "df['CPM']= df[['CPM']].apply(lambda x: calculate_cpm(x))\n",
    "df['CPC']= df[['CPC']].apply(lambda x: calculate_cpc(x))"
   ]
  },
  {
   "cell_type": "code",
   "execution_count": 18,
   "metadata": {},
   "outputs": [
    {
     "data": {
      "text/plain": [
       "Timestamp                0\n",
       "InventoryType            0\n",
       "Ad - Length              0\n",
       "Ad- Width                0\n",
       "Ad Size                  0\n",
       "Ad Type                  0\n",
       "Platform                 0\n",
       "Device Type              0\n",
       "Format                   0\n",
       "Available_Impressions    0\n",
       "Matched_Queries          0\n",
       "Impressions              0\n",
       "Clicks                   0\n",
       "Spend                    0\n",
       "Fee                      0\n",
       "Revenue                  0\n",
       "CTR                      0\n",
       "CPM                      0\n",
       "CPC                      0\n",
       "dtype: int64"
      ]
     },
     "execution_count": 18,
     "metadata": {},
     "output_type": "execute_result"
    }
   ],
   "source": [
    "df.isnull().sum()"
   ]
  },
  {
   "cell_type": "code",
   "execution_count": 19,
   "metadata": {},
   "outputs": [],
   "source": [
    "df_num= df.select_dtypes(include=['float64','int64'])"
   ]
  },
  {
   "cell_type": "code",
   "execution_count": 20,
   "metadata": {},
   "outputs": [
    {
     "data": {
      "image/png": "[encoded data removed]",
      "text/plain": [
       "<Figure size 1440x1440 with 13 Axes>"
      ]
     },
     "metadata": {
      "needs_background": "light"
     },
     "output_type": "display_data"
    }
   ],
   "source": [
    "data_plot=df_num\n",
    "fig=plt.figure(figsize=(20,20))\n",
    "for i in range(0,len(data_plot.columns)):\n",
    "    ax=fig.add_subplot(5,3,i+1)\n",
    "    sns.boxplot(data_plot[data_plot.columns[i]])\n",
    "    ax.set_title(data_plot.columns[i],color='Red')\n",
    "plt.tight_layout()"
   ]
  },
  {
   "cell_type": "code",
   "execution_count": 21,
   "metadata": {},
   "outputs": [],
   "source": [
    "def treat_outlier(x):\n",
    "    # taking 5,25,75 percentile of column\n",
    "    q5= np.percentile(x,5)\n",
    "    q25=np.percentile(x,25)\n",
    "    q75=np.percentile(x,75)\n",
    "    dt=np.percentile(x,95)\n",
    "    #calculationg IQR range\n",
    "    IQR=q75-q25\n",
    "    #Calculating minimum threshold\n",
    "    lower_bound=q25-(1.5*IQR)\n",
    "    upper_bound=q75+(1.5*IQR)\n",
    "    #Capping outliers\n",
    "    return x.apply(lambda y: q5 if y < lower_bound else y).apply(lambda y: dt if y > upper_bound else y)#check this function"
   ]
  },
  {
   "cell_type": "code",
   "execution_count": 22,
   "metadata": {},
   "outputs": [],
   "source": [
    "def print_outlier(x):\n",
    "    # taking 5,25,75 percentile of column\n",
    "    q5= np.percentile(x,5)\n",
    "    q25=np.percentile(x,25)\n",
    "    q75=np.percentile(x,75)\n",
    "    dt=np.percentile(x,95)\n",
    "    min_val = min(x)\n",
    "    max_val = max(x)\n",
    "    #calculationg IQR range\n",
    "    IQR=q75-q25\n",
    "    #Calculating minimum threshold\n",
    "    lower_bound=q25-(1.5*IQR)\n",
    "    upper_bound=q75+(1.5*IQR)\n",
    "    #Capping outliers\n",
    "    return ('5%=',q5,'Q1=',q25,'Q3=',q75,'IQR=',IQR,'LL=',lower_bound,'UL=', upper_bound, '95%', dt, 'max=',max_val, 'min=',min_val)"
   ]
  },
  {
   "cell_type": "code",
   "execution_count": 23,
   "metadata": {},
   "outputs": [
    {
     "name": "stdout",
     "output_type": "stream",
     "text": [
      "Ad - Length = ('5%=', 120.0, 'Q1=', 120.0, 'Q3=', 720.0, 'IQR=', 600.0, 'LL=', -780.0, 'UL=', 1620.0, '95%', 728.0, 'max=', 728, 'min=', 120)\n",
      "Ad- Width = ('5%=', 70.0, 'Q1=', 250.0, 'Q3=', 600.0, 'IQR=', 350.0, 'LL=', -275.0, 'UL=', 1125.0, '95%', 600.0, 'max=', 600, 'min=', 70)\n",
      "Ad Size = ('5%=', 33600.0, 'Q1=', 72000.0, 'Q3=', 84000.0, 'IQR=', 12000.0, 'LL=', 54000.0, 'UL=', 102000.0, '95%', 216000.0, 'max=', 216000, 'min=', 33600)\n",
      "Available_Impressions = ('5%=', 486.25, 'Q1=', 33672.25, 'Q3=', 2527711.75, 'IQR=', 2494039.5, 'LL=', -3707387.0, 'UL=', 6268771.0, '95%', 14363912.25, 'max=', 27592861, 'min=', 1)\n",
      "Matched_Queries = ('5%=', 160.25, 'Q1=', 18282.5, 'Q3=', 1180700.0, 'IQR=', 1162417.5, 'LL=', -1725343.75, 'UL=', 2924326.25, '95%', 7803449.0, 'max=', 14702025, 'min=', 1)\n",
      "Impressions = ('5%=', 149.25, 'Q1=', 7990.5, 'Q3=', 1112428.5, 'IQR=', 1104438.0, 'LL=', -1648666.5, 'UL=', 2769085.5, '95%', 7473380.25, 'max=', 14194774, 'min=', 1)\n",
      "Clicks = ('5%=', 13.0, 'Q1=', 710.0, 'Q3=', 12793.75, 'IQR=', 12083.75, 'LL=', -17415.625, 'UL=', 30919.375, '95%', 50662.0, 'max=', 143049, 'min=', 1)\n",
      "Spend = ('5%=', 1.03, 'Q1=', 85.18, 'Q3=', 3121.4, 'IQR=', 3036.2200000000003, 'LL=', -4469.15, 'UL=', 7675.73, '95%', 12899.765, 'max=', 26931.87, 'min=', 0.0)\n",
      "Fee = ('5%=', 0.25, 'Q1=', 0.33, 'Q3=', 0.35, 'IQR=', 0.019999999999999962, 'LL=', 0.30000000000000004, 'UL=', 0.3799999999999999, '95%', 0.35, 'max=', 0.35, 'min=', 0.21)\n",
      "Revenue = ('5%=', 0.6695, 'Q1=', 55.365375, 'Q3=', 2091.3381499999996, 'IQR=', 2035.9727749999995, 'LL=', -2998.5937874999995, 'UL=', 5145.297312499999, '95%', 9674.824999999999, 'max=', 21276.18, 'min=', 0.0)\n",
      "CTR = ('5%=', 0.1839918986653842, 'Q1=', 0.2651074536782037, 'Q3=', 13.47057094203663, 'IQR=', 13.205463488358427, 'LL=', -19.543087778859437, 'UL=', 33.27876617457427, '95%', 23.782197493931783, 'max=', 200.0, 'min=', 0.010874056675583393)\n",
      "CPM = ('5%=', 1.1947931976071149, 'Q1=', 1.749084108557498, 'Q3=', 13.042017736400048, 'IQR=', 11.292933627842551, 'LL=', -15.19031633320633, 'UL=', 29.981418178163874, '95%', 20.378834616960383, 'max=', 715.0, 'min=', 0.0)\n",
      "CPC = ('5%=', 0.05698919668206668, 'Q1=', 0.08973570285509513, 'Q3=', 0.5462420526442967, 'IQR=', 0.45650634978920157, 'LL=', -0.5950238218287072, 'UL=', 1.2310015773280991, '95%', 0.9254770499015033, 'max=', 7.264, 'min=', 0.0)\n"
     ]
    }
   ],
   "source": [
    "for i in df_num.columns:\n",
    "    print(i,'=',print_outlier(df_num[i]))"
   ]
  },
  {
   "cell_type": "code",
   "execution_count": 24,
   "metadata": {},
   "outputs": [],
   "source": [
    "for i in df_num.columns:    \n",
    "    df_num[i]=treat_outlier(df_num[i])"
   ]
  },
  {
   "cell_type": "code",
   "execution_count": 25,
   "metadata": {},
   "outputs": [
    {
     "data": {
      "image/png": "[encoded data removed]",
      "text/plain": [
       "<Figure size 1440x1440 with 13 Axes>"
      ]
     },
     "metadata": {
      "needs_background": "light"
     },
     "output_type": "display_data"
    }
   ],
   "source": [
    "data_plot=df_num\n",
    "fig=plt.figure(figsize=(20,20))\n",
    "for i in range(0,len(data_plot.columns)):\n",
    "    ax=fig.add_subplot(5,3,i+1)\n",
    "    sns.boxplot(data_plot[data_plot.columns[i]])\n",
    "    ax.set_title(data_plot.columns[i],color='Red')\n",
    "plt.tight_layout()"
   ]
  },
  {
   "cell_type": "code",
   "execution_count": 26,
   "metadata": {},
   "outputs": [],
   "source": [
    "from sklearn.preprocessing import StandardScaler"
   ]
  },
  {
   "cell_type": "code",
   "execution_count": 27,
   "metadata": {},
   "outputs": [],
   "source": [
    "X = StandardScaler()"
   ]
  },
  {
   "cell_type": "code",
   "execution_count": 28,
   "metadata": {},
   "outputs": [],
   "source": [
    "scaled_df = pd.DataFrame(X.fit_transform(df_num),columns=df_num.columns)"
   ]
  },
  {
   "cell_type": "code",
   "execution_count": 29,
   "metadata": {},
   "outputs": [
    {
     "data": {
      "text/html": [
       "<div>\n",
       "<style scoped>\n",
       "    .dataframe tbody tr th:only-of-type {\n",
       "        vertical-align: middle;\n",
       "    }\n",
       "\n",
       "    .dataframe tbody tr th {\n",
       "        vertical-align: top;\n",
       "    }\n",
       "\n",
       "    .dataframe thead th {\n",
       "        text-align: right;\n",
       "    }\n",
       "</style>\n",
       "<table border=\"1\" class=\"dataframe\">\n",
       "  <thead>\n",
       "    <tr style=\"text-align: right;\">\n",
       "      <th></th>\n",
       "      <th>0</th>\n",
       "      <th>1</th>\n",
       "      <th>2</th>\n",
       "      <th>3</th>\n",
       "      <th>4</th>\n",
       "    </tr>\n",
       "  </thead>\n",
       "  <tbody>\n",
       "    <tr>\n",
       "      <th>Ad - Length</th>\n",
       "      <td>-0.364496</td>\n",
       "      <td>-0.364496</td>\n",
       "      <td>-0.364496</td>\n",
       "      <td>-0.364496</td>\n",
       "      <td>-0.364496</td>\n",
       "    </tr>\n",
       "    <tr>\n",
       "      <th>Ad- Width</th>\n",
       "      <td>-0.432797</td>\n",
       "      <td>-0.432797</td>\n",
       "      <td>-0.432797</td>\n",
       "      <td>-0.432797</td>\n",
       "      <td>-0.432797</td>\n",
       "    </tr>\n",
       "    <tr>\n",
       "      <th>Ad Size</th>\n",
       "      <td>-0.359227</td>\n",
       "      <td>-0.359227</td>\n",
       "      <td>-0.359227</td>\n",
       "      <td>-0.359227</td>\n",
       "      <td>-0.359227</td>\n",
       "    </tr>\n",
       "    <tr>\n",
       "      <th>Available_Impressions</th>\n",
       "      <td>-0.569484</td>\n",
       "      <td>-0.569490</td>\n",
       "      <td>-0.569269</td>\n",
       "      <td>-0.569339</td>\n",
       "      <td>-0.569622</td>\n",
       "    </tr>\n",
       "    <tr>\n",
       "      <th>Matched_Queries</th>\n",
       "      <td>-0.567061</td>\n",
       "      <td>-0.567076</td>\n",
       "      <td>-0.567049</td>\n",
       "      <td>-0.566994</td>\n",
       "      <td>-0.567093</td>\n",
       "    </tr>\n",
       "    <tr>\n",
       "      <th>Impressions</th>\n",
       "      <td>-0.563943</td>\n",
       "      <td>-0.563958</td>\n",
       "      <td>-0.563931</td>\n",
       "      <td>-0.563875</td>\n",
       "      <td>-0.563975</td>\n",
       "    </tr>\n",
       "    <tr>\n",
       "      <th>Clicks</th>\n",
       "      <td>-0.719779</td>\n",
       "      <td>-0.719779</td>\n",
       "      <td>-0.719779</td>\n",
       "      <td>-0.719779</td>\n",
       "      <td>-0.719779</td>\n",
       "    </tr>\n",
       "    <tr>\n",
       "      <th>Spend</th>\n",
       "      <td>-0.722776</td>\n",
       "      <td>-0.722776</td>\n",
       "      <td>-0.722776</td>\n",
       "      <td>-0.722776</td>\n",
       "      <td>-0.722776</td>\n",
       "    </tr>\n",
       "    <tr>\n",
       "      <th>Fee</th>\n",
       "      <td>0.487214</td>\n",
       "      <td>0.487214</td>\n",
       "      <td>0.487214</td>\n",
       "      <td>0.487214</td>\n",
       "      <td>0.487214</td>\n",
       "    </tr>\n",
       "    <tr>\n",
       "      <th>Revenue</th>\n",
       "      <td>-0.676118</td>\n",
       "      <td>-0.676118</td>\n",
       "      <td>-0.676118</td>\n",
       "      <td>-0.676118</td>\n",
       "      <td>-0.676118</td>\n",
       "    </tr>\n",
       "    <tr>\n",
       "      <th>CTR</th>\n",
       "      <td>-0.978830</td>\n",
       "      <td>-0.973650</td>\n",
       "      <td>-0.982332</td>\n",
       "      <td>-0.992329</td>\n",
       "      <td>-0.965826</td>\n",
       "    </tr>\n",
       "    <tr>\n",
       "      <th>CPM</th>\n",
       "      <td>-1.220346</td>\n",
       "      <td>-1.220346</td>\n",
       "      <td>-1.220346</td>\n",
       "      <td>-1.220346</td>\n",
       "      <td>-1.220346</td>\n",
       "    </tr>\n",
       "    <tr>\n",
       "      <th>CPC</th>\n",
       "      <td>-1.083011</td>\n",
       "      <td>-1.083011</td>\n",
       "      <td>-1.083011</td>\n",
       "      <td>-1.083011</td>\n",
       "      <td>-1.083011</td>\n",
       "    </tr>\n",
       "  </tbody>\n",
       "</table>\n",
       "</div>"
      ],
      "text/plain": [
       "                              0         1         2         3         4\n",
       "Ad - Length           -0.364496 -0.364496 -0.364496 -0.364496 -0.364496\n",
       "Ad- Width             -0.432797 -0.432797 -0.432797 -0.432797 -0.432797\n",
       "Ad Size               -0.359227 -0.359227 -0.359227 -0.359227 -0.359227\n",
       "Available_Impressions -0.569484 -0.569490 -0.569269 -0.569339 -0.569622\n",
       "Matched_Queries       -0.567061 -0.567076 -0.567049 -0.566994 -0.567093\n",
       "Impressions           -0.563943 -0.563958 -0.563931 -0.563875 -0.563975\n",
       "Clicks                -0.719779 -0.719779 -0.719779 -0.719779 -0.719779\n",
       "Spend                 -0.722776 -0.722776 -0.722776 -0.722776 -0.722776\n",
       "Fee                    0.487214  0.487214  0.487214  0.487214  0.487214\n",
       "Revenue               -0.676118 -0.676118 -0.676118 -0.676118 -0.676118\n",
       "CTR                   -0.978830 -0.973650 -0.982332 -0.992329 -0.965826\n",
       "CPM                   -1.220346 -1.220346 -1.220346 -1.220346 -1.220346\n",
       "CPC                   -1.083011 -1.083011 -1.083011 -1.083011 -1.083011"
      ]
     },
     "execution_count": 29,
     "metadata": {},
     "output_type": "execute_result"
    }
   ],
   "source": [
    "scaled_df.head().T"
   ]
  },
  {
   "cell_type": "markdown",
   "metadata": {},
   "source": [
    "### Hierarchical Clustering\n"
   ]
  },
  {
   "cell_type": "code",
   "execution_count": 30,
   "metadata": {},
   "outputs": [],
   "source": [
    "import scipy.cluster.hierarchy as sch\n",
    "from scipy.cluster.hierarchy import dendrogram, linkage,fcluster\n"
   ]
  },
  {
   "cell_type": "code",
   "execution_count": 31,
   "metadata": {},
   "outputs": [
    {
     "data": {
      "image/png": "[encoded data removed]",
      "text/plain": [
       "<Figure size 1440x1440 with 1 Axes>"
      ]
     },
     "metadata": {
      "needs_background": "light"
     },
     "output_type": "display_data"
    }
   ],
   "source": [
    "x_full = scaled_df.values\n",
    "plt.figure(figsize=(20, 20))\n",
    "Z = sch.dendrogram(sch.linkage(x_full, method = \"ward\", metric='euclidean'))\n",
    "plt.show()\n"
   ]
  },
  {
   "cell_type": "markdown",
   "metadata": {},
   "source": [
    "### KMeans"
   ]
  },
  {
   "cell_type": "code",
   "execution_count": 32,
   "metadata": {},
   "outputs": [],
   "source": [
    "from sklearn.cluster import KMeans \n",
    "from sklearn.metrics import silhouette_samples, silhouette_score"
   ]
  },
  {
   "cell_type": "code",
   "execution_count": 33,
   "metadata": {},
   "outputs": [],
   "source": [
    "wss =[] \n",
    "a=[1,2,3,4,5,6,7,8,9,10]\n",
    "sil_score= []\n",
    "for i in a:\n",
    "    KM = KMeans(n_clusters=i,random_state=1)\n",
    "    KM.fit(scaled_df)\n",
    "    wss.append(KM.inertia_)\n"
   ]
  },
  {
   "cell_type": "code",
   "execution_count": 34,
   "metadata": {},
   "outputs": [
    {
     "data": {
      "text/plain": [
       "Text(0, 0.5, 'WSS')"
      ]
     },
     "execution_count": 34,
     "metadata": {},
     "output_type": "execute_result"
    },
    {
     "data": {
      "image/png": "[encoded data removed]",
      "text/plain": [
       "<Figure size 864x576 with 1 Axes>"
      ]
     },
     "metadata": {
      "needs_background": "light"
     },
     "output_type": "display_data"
    }
   ],
   "source": [
    "plt.figure(figsize=(12,8))\n",
    "sns.pointplot(a, wss)\n",
    "plt.title('Elbow Plot')\n",
    "plt.xlabel('Number of Clusters')\n",
    "plt.ylabel('WSS')"
   ]
  },
  {
   "cell_type": "code",
   "execution_count": 35,
   "metadata": {},
   "outputs": [
    {
     "name": "stdout",
     "output_type": "stream",
     "text": [
      "The Average Silhouette Score for 2 clusters is 0.47368\n",
      "The Average Silhouette Score for 3 clusters is 0.39136\n",
      "The Average Silhouette Score for 4 clusters is 0.45212\n",
      "The Average Silhouette Score for 5 clusters is 0.55659\n",
      "The Average Silhouette Score for 6 clusters is 0.57526\n",
      "The Average Silhouette Score for 7 clusters is 0.53537\n",
      "The Average Silhouette Score for 8 clusters is 0.46291\n",
      "The Average Silhouette Score for 9 clusters is 0.45851\n",
      "The Average Silhouette Score for 10 clusters is 0.46434\n"
     ]
    }
   ],
   "source": [
    "ss={1:0}\n",
    "for i in range(2, 11):\n",
    " clusterer = KMeans(n_clusters = i, init = 'k-means++', random_state = 1)\n",
    " y=clusterer.fit_predict(scaled_df)\n",
    " s =silhouette_score(scaled_df, y )\n",
    " ss[i]=round(s,5)\n",
    " print(\"The Average Silhouette Score for {} clusters is {}\".format(i,round(s,5)))\n"
   ]
  },
  {
   "cell_type": "code",
   "execution_count": 36,
   "metadata": {},
   "outputs": [
    {
     "data": {
      "text/plain": [
       "Text(0.5, 0, 'Number of clusters')"
      ]
     },
     "execution_count": 36,
     "metadata": {},
     "output_type": "execute_result"
    },
    {
     "data": {
      "image/png": "[encoded data removed]",
      "text/plain": [
       "<Figure size 864x288 with 1 Axes>"
      ]
     },
     "metadata": {
      "needs_background": "light"
     },
     "output_type": "display_data"
    }
   ],
   "source": [
    "maxkey= [key for key, value in ss.items() if value == max(ss.values())][0]\n",
    "fig,ax = plt.subplots(figsize=(12,4))\n",
    "sns.pointplot(list(ss.keys()),list(ss.values()))\n",
    "plt.vlines(x=maxkey-1,ymax=0,ymin=0.75,linestyles='dotted')\n",
    "ax.set(ylim=(0, 0.76))\n",
    "ax.set_title('Silhouette Plot')\n",
    "ax.set_xlabel('Number of clusters')"
   ]
  },
  {
   "cell_type": "code",
   "execution_count": 37,
   "metadata": {},
   "outputs": [],
   "source": [
    "clusterer = KMeans(n_clusters =6, init = 'k-means++', random_state = 1)\n",
    "\n",
    "clusterer.fit_predict(scaled_df)\n",
    "\n",
    "labels = clusterer.labels_\n"
   ]
  },
  {
   "cell_type": "code",
   "execution_count": 38,
   "metadata": {},
   "outputs": [],
   "source": [
    "df['KMEANS_LABELS'] = labels"
   ]
  },
  {
   "cell_type": "code",
   "execution_count": 39,
   "metadata": {},
   "outputs": [
    {
     "data": {
      "text/html": [
       "<div>\n",
       "<style scoped>\n",
       "    .dataframe tbody tr th:only-of-type {\n",
       "        vertical-align: middle;\n",
       "    }\n",
       "\n",
       "    .dataframe tbody tr th {\n",
       "        vertical-align: top;\n",
       "    }\n",
       "\n",
       "    .dataframe thead th {\n",
       "        text-align: right;\n",
       "    }\n",
       "</style>\n",
       "<table border=\"1\" class=\"dataframe\">\n",
       "  <thead>\n",
       "    <tr style=\"text-align: right;\">\n",
       "      <th></th>\n",
       "      <th>Timestamp</th>\n",
       "      <th>InventoryType</th>\n",
       "      <th>Ad - Length</th>\n",
       "      <th>Ad- Width</th>\n",
       "      <th>Ad Size</th>\n",
       "      <th>Ad Type</th>\n",
       "      <th>Platform</th>\n",
       "      <th>Device Type</th>\n",
       "      <th>Format</th>\n",
       "      <th>Available_Impressions</th>\n",
       "      <th>Matched_Queries</th>\n",
       "      <th>Impressions</th>\n",
       "      <th>Clicks</th>\n",
       "      <th>Spend</th>\n",
       "      <th>Fee</th>\n",
       "      <th>Revenue</th>\n",
       "      <th>CTR</th>\n",
       "      <th>CPM</th>\n",
       "      <th>CPC</th>\n",
       "      <th>KMEANS_LABELS</th>\n",
       "    </tr>\n",
       "  </thead>\n",
       "  <tbody>\n",
       "    <tr>\n",
       "      <th>0</th>\n",
       "      <td>2020-9-2-17</td>\n",
       "      <td>Format1</td>\n",
       "      <td>300</td>\n",
       "      <td>250</td>\n",
       "      <td>75000</td>\n",
       "      <td>Inter222</td>\n",
       "      <td>Video</td>\n",
       "      <td>Desktop</td>\n",
       "      <td>Display</td>\n",
       "      <td>1806</td>\n",
       "      <td>325</td>\n",
       "      <td>323</td>\n",
       "      <td>1</td>\n",
       "      <td>0.0</td>\n",
       "      <td>0.35</td>\n",
       "      <td>0.0</td>\n",
       "      <td>0.309598</td>\n",
       "      <td>0.0</td>\n",
       "      <td>0.0</td>\n",
       "      <td>4</td>\n",
       "    </tr>\n",
       "    <tr>\n",
       "      <th>1</th>\n",
       "      <td>2020-9-2-10</td>\n",
       "      <td>Format1</td>\n",
       "      <td>300</td>\n",
       "      <td>250</td>\n",
       "      <td>75000</td>\n",
       "      <td>Inter227</td>\n",
       "      <td>App</td>\n",
       "      <td>Mobile</td>\n",
       "      <td>Video</td>\n",
       "      <td>1780</td>\n",
       "      <td>285</td>\n",
       "      <td>285</td>\n",
       "      <td>1</td>\n",
       "      <td>0.0</td>\n",
       "      <td>0.35</td>\n",
       "      <td>0.0</td>\n",
       "      <td>0.350877</td>\n",
       "      <td>0.0</td>\n",
       "      <td>0.0</td>\n",
       "      <td>4</td>\n",
       "    </tr>\n",
       "    <tr>\n",
       "      <th>2</th>\n",
       "      <td>2020-9-1-22</td>\n",
       "      <td>Format1</td>\n",
       "      <td>300</td>\n",
       "      <td>250</td>\n",
       "      <td>75000</td>\n",
       "      <td>Inter222</td>\n",
       "      <td>Video</td>\n",
       "      <td>Desktop</td>\n",
       "      <td>Display</td>\n",
       "      <td>2727</td>\n",
       "      <td>356</td>\n",
       "      <td>355</td>\n",
       "      <td>1</td>\n",
       "      <td>0.0</td>\n",
       "      <td>0.35</td>\n",
       "      <td>0.0</td>\n",
       "      <td>0.281690</td>\n",
       "      <td>0.0</td>\n",
       "      <td>0.0</td>\n",
       "      <td>4</td>\n",
       "    </tr>\n",
       "    <tr>\n",
       "      <th>3</th>\n",
       "      <td>2020-9-3-20</td>\n",
       "      <td>Format1</td>\n",
       "      <td>300</td>\n",
       "      <td>250</td>\n",
       "      <td>75000</td>\n",
       "      <td>Inter228</td>\n",
       "      <td>Video</td>\n",
       "      <td>Mobile</td>\n",
       "      <td>Video</td>\n",
       "      <td>2430</td>\n",
       "      <td>497</td>\n",
       "      <td>495</td>\n",
       "      <td>1</td>\n",
       "      <td>0.0</td>\n",
       "      <td>0.35</td>\n",
       "      <td>0.0</td>\n",
       "      <td>0.202020</td>\n",
       "      <td>0.0</td>\n",
       "      <td>0.0</td>\n",
       "      <td>4</td>\n",
       "    </tr>\n",
       "    <tr>\n",
       "      <th>4</th>\n",
       "      <td>2020-9-4-15</td>\n",
       "      <td>Format1</td>\n",
       "      <td>300</td>\n",
       "      <td>250</td>\n",
       "      <td>75000</td>\n",
       "      <td>Inter217</td>\n",
       "      <td>Web</td>\n",
       "      <td>Desktop</td>\n",
       "      <td>Video</td>\n",
       "      <td>1218</td>\n",
       "      <td>242</td>\n",
       "      <td>242</td>\n",
       "      <td>1</td>\n",
       "      <td>0.0</td>\n",
       "      <td>0.35</td>\n",
       "      <td>0.0</td>\n",
       "      <td>0.413223</td>\n",
       "      <td>0.0</td>\n",
       "      <td>0.0</td>\n",
       "      <td>4</td>\n",
       "    </tr>\n",
       "  </tbody>\n",
       "</table>\n",
       "</div>"
      ],
      "text/plain": [
       "     Timestamp InventoryType  Ad - Length  Ad- Width  Ad Size   Ad Type  \\\n",
       "0  2020-9-2-17       Format1          300        250    75000  Inter222   \n",
       "1  2020-9-2-10       Format1          300        250    75000  Inter227   \n",
       "2  2020-9-1-22       Format1          300        250    75000  Inter222   \n",
       "3  2020-9-3-20       Format1          300        250    75000  Inter228   \n",
       "4  2020-9-4-15       Format1          300        250    75000  Inter217   \n",
       "\n",
       "  Platform Device Type   Format  Available_Impressions  Matched_Queries  \\\n",
       "0    Video     Desktop  Display                   1806              325   \n",
       "1      App      Mobile    Video                   1780              285   \n",
       "2    Video     Desktop  Display                   2727              356   \n",
       "3    Video      Mobile    Video                   2430              497   \n",
       "4      Web     Desktop    Video                   1218              242   \n",
       "\n",
       "   Impressions  Clicks  Spend   Fee  Revenue       CTR  CPM  CPC  \\\n",
       "0          323       1    0.0  0.35      0.0  0.309598  0.0  0.0   \n",
       "1          285       1    0.0  0.35      0.0  0.350877  0.0  0.0   \n",
       "2          355       1    0.0  0.35      0.0  0.281690  0.0  0.0   \n",
       "3          495       1    0.0  0.35      0.0  0.202020  0.0  0.0   \n",
       "4          242       1    0.0  0.35      0.0  0.413223  0.0  0.0   \n",
       "\n",
       "   KMEANS_LABELS  \n",
       "0              4  \n",
       "1              4  \n",
       "2              4  \n",
       "3              4  \n",
       "4              4  "
      ]
     },
     "execution_count": 39,
     "metadata": {},
     "output_type": "execute_result"
    }
   ],
   "source": [
    "df.head()"
   ]
  },
  {
   "cell_type": "markdown",
   "metadata": {},
   "source": [
    "# Cluster Profiling"
   ]
  },
  {
   "cell_type": "code",
   "execution_count": 40,
   "metadata": {},
   "outputs": [
    {
     "data": {
      "text/plain": [
       "4    30.321686\n",
       "0    29.662707\n",
       "2    19.569930\n",
       "1     7.612937\n",
       "5     6.620134\n",
       "3     6.212607\n",
       "Name: KMEANS_LABELS, dtype: float64"
      ]
     },
     "execution_count": 40,
     "metadata": {},
     "output_type": "execute_result"
    }
   ],
   "source": [
    "df.KMEANS_LABELS.value_counts(1)*100\n",
    "# label has majority data"
   ]
  },
  {
   "cell_type": "code",
   "execution_count": 41,
   "metadata": {},
   "outputs": [
    {
     "data": {
      "text/plain": [
       "4    6994\n",
       "0    6842\n",
       "2    4514\n",
       "1    1756\n",
       "5    1527\n",
       "3    1433\n",
       "Name: KMEANS_LABELS, dtype: int64"
      ]
     },
     "execution_count": 41,
     "metadata": {},
     "output_type": "execute_result"
    }
   ],
   "source": [
    "df.KMEANS_LABELS.value_counts()"
   ]
  },
  {
   "cell_type": "code",
   "execution_count": 42,
   "metadata": {},
   "outputs": [
    {
     "data": {
      "text/html": [
       "<div>\n",
       "<style scoped>\n",
       "    .dataframe tbody tr th:only-of-type {\n",
       "        vertical-align: middle;\n",
       "    }\n",
       "\n",
       "    .dataframe tbody tr th {\n",
       "        vertical-align: top;\n",
       "    }\n",
       "\n",
       "    .dataframe thead th {\n",
       "        text-align: right;\n",
       "    }\n",
       "</style>\n",
       "<table border=\"1\" class=\"dataframe\">\n",
       "  <thead>\n",
       "    <tr style=\"text-align: right;\">\n",
       "      <th></th>\n",
       "      <th>Ad - Length</th>\n",
       "      <th>Ad- Width</th>\n",
       "      <th>Ad Size</th>\n",
       "      <th>Available_Impressions</th>\n",
       "      <th>Matched_Queries</th>\n",
       "      <th>Impressions</th>\n",
       "      <th>Clicks</th>\n",
       "      <th>Spend</th>\n",
       "      <th>Fee</th>\n",
       "      <th>Revenue</th>\n",
       "      <th>CTR</th>\n",
       "      <th>CPM</th>\n",
       "      <th>CPC</th>\n",
       "      <th>KMEANS_LABELS</th>\n",
       "    </tr>\n",
       "  </thead>\n",
       "  <tbody>\n",
       "    <tr>\n",
       "      <th>count</th>\n",
       "      <td>23066.000000</td>\n",
       "      <td>23066.000000</td>\n",
       "      <td>23066.000000</td>\n",
       "      <td>2.306600e+04</td>\n",
       "      <td>2.306600e+04</td>\n",
       "      <td>2.306600e+04</td>\n",
       "      <td>23066.000000</td>\n",
       "      <td>23066.000000</td>\n",
       "      <td>23066.000000</td>\n",
       "      <td>23066.000000</td>\n",
       "      <td>23066.000000</td>\n",
       "      <td>23066.000000</td>\n",
       "      <td>23066.000000</td>\n",
       "      <td>23066.000000</td>\n",
       "    </tr>\n",
       "    <tr>\n",
       "      <th>mean</th>\n",
       "      <td>385.163097</td>\n",
       "      <td>337.896037</td>\n",
       "      <td>96674.468048</td>\n",
       "      <td>2.432044e+06</td>\n",
       "      <td>1.295099e+06</td>\n",
       "      <td>1.241520e+06</td>\n",
       "      <td>10678.518816</td>\n",
       "      <td>2706.625689</td>\n",
       "      <td>0.335123</td>\n",
       "      <td>1924.252331</td>\n",
       "      <td>8.409941</td>\n",
       "      <td>8.396849</td>\n",
       "      <td>0.336678</td>\n",
       "      <td>2.197780</td>\n",
       "    </tr>\n",
       "    <tr>\n",
       "      <th>std</th>\n",
       "      <td>233.651434</td>\n",
       "      <td>203.092885</td>\n",
       "      <td>61538.329557</td>\n",
       "      <td>4.742888e+06</td>\n",
       "      <td>2.512970e+06</td>\n",
       "      <td>2.429400e+06</td>\n",
       "      <td>17353.409363</td>\n",
       "      <td>4067.927273</td>\n",
       "      <td>0.031963</td>\n",
       "      <td>3105.238410</td>\n",
       "      <td>9.262048</td>\n",
       "      <td>9.057760</td>\n",
       "      <td>0.341253</td>\n",
       "      <td>1.759108</td>\n",
       "    </tr>\n",
       "    <tr>\n",
       "      <th>min</th>\n",
       "      <td>120.000000</td>\n",
       "      <td>70.000000</td>\n",
       "      <td>33600.000000</td>\n",
       "      <td>1.000000e+00</td>\n",
       "      <td>1.000000e+00</td>\n",
       "      <td>1.000000e+00</td>\n",
       "      <td>1.000000</td>\n",
       "      <td>0.000000</td>\n",
       "      <td>0.210000</td>\n",
       "      <td>0.000000</td>\n",
       "      <td>0.010874</td>\n",
       "      <td>0.000000</td>\n",
       "      <td>0.000000</td>\n",
       "      <td>0.000000</td>\n",
       "    </tr>\n",
       "    <tr>\n",
       "      <th>25%</th>\n",
       "      <td>120.000000</td>\n",
       "      <td>250.000000</td>\n",
       "      <td>72000.000000</td>\n",
       "      <td>3.367225e+04</td>\n",
       "      <td>1.828250e+04</td>\n",
       "      <td>7.990500e+03</td>\n",
       "      <td>710.000000</td>\n",
       "      <td>85.180000</td>\n",
       "      <td>0.330000</td>\n",
       "      <td>55.365375</td>\n",
       "      <td>0.265107</td>\n",
       "      <td>1.749084</td>\n",
       "      <td>0.089736</td>\n",
       "      <td>0.000000</td>\n",
       "    </tr>\n",
       "    <tr>\n",
       "      <th>50%</th>\n",
       "      <td>300.000000</td>\n",
       "      <td>300.000000</td>\n",
       "      <td>72000.000000</td>\n",
       "      <td>4.837710e+05</td>\n",
       "      <td>2.580875e+05</td>\n",
       "      <td>2.252900e+05</td>\n",
       "      <td>4425.000000</td>\n",
       "      <td>1425.125000</td>\n",
       "      <td>0.350000</td>\n",
       "      <td>926.335000</td>\n",
       "      <td>9.391248</td>\n",
       "      <td>8.371566</td>\n",
       "      <td>0.139347</td>\n",
       "      <td>2.000000</td>\n",
       "    </tr>\n",
       "    <tr>\n",
       "      <th>75%</th>\n",
       "      <td>720.000000</td>\n",
       "      <td>600.000000</td>\n",
       "      <td>84000.000000</td>\n",
       "      <td>2.527712e+06</td>\n",
       "      <td>1.180700e+06</td>\n",
       "      <td>1.112428e+06</td>\n",
       "      <td>12793.750000</td>\n",
       "      <td>3121.400000</td>\n",
       "      <td>0.350000</td>\n",
       "      <td>2091.338150</td>\n",
       "      <td>13.470571</td>\n",
       "      <td>13.042018</td>\n",
       "      <td>0.546242</td>\n",
       "      <td>4.000000</td>\n",
       "    </tr>\n",
       "    <tr>\n",
       "      <th>max</th>\n",
       "      <td>728.000000</td>\n",
       "      <td>600.000000</td>\n",
       "      <td>216000.000000</td>\n",
       "      <td>2.759286e+07</td>\n",
       "      <td>1.470202e+07</td>\n",
       "      <td>1.419477e+07</td>\n",
       "      <td>143049.000000</td>\n",
       "      <td>26931.870000</td>\n",
       "      <td>0.350000</td>\n",
       "      <td>21276.180000</td>\n",
       "      <td>200.000000</td>\n",
       "      <td>715.000000</td>\n",
       "      <td>7.264000</td>\n",
       "      <td>5.000000</td>\n",
       "    </tr>\n",
       "  </tbody>\n",
       "</table>\n",
       "</div>"
      ],
      "text/plain": [
       "        Ad - Length     Ad- Width        Ad Size  Available_Impressions  \\\n",
       "count  23066.000000  23066.000000   23066.000000           2.306600e+04   \n",
       "mean     385.163097    337.896037   96674.468048           2.432044e+06   \n",
       "std      233.651434    203.092885   61538.329557           4.742888e+06   \n",
       "min      120.000000     70.000000   33600.000000           1.000000e+00   \n",
       "25%      120.000000    250.000000   72000.000000           3.367225e+04   \n",
       "50%      300.000000    300.000000   72000.000000           4.837710e+05   \n",
       "75%      720.000000    600.000000   84000.000000           2.527712e+06   \n",
       "max      728.000000    600.000000  216000.000000           2.759286e+07   \n",
       "\n",
       "       Matched_Queries   Impressions         Clicks         Spend  \\\n",
       "count     2.306600e+04  2.306600e+04   23066.000000  23066.000000   \n",
       "mean      1.295099e+06  1.241520e+06   10678.518816   2706.625689   \n",
       "std       2.512970e+06  2.429400e+06   17353.409363   4067.927273   \n",
       "min       1.000000e+00  1.000000e+00       1.000000      0.000000   \n",
       "25%       1.828250e+04  7.990500e+03     710.000000     85.180000   \n",
       "50%       2.580875e+05  2.252900e+05    4425.000000   1425.125000   \n",
       "75%       1.180700e+06  1.112428e+06   12793.750000   3121.400000   \n",
       "max       1.470202e+07  1.419477e+07  143049.000000  26931.870000   \n",
       "\n",
       "                Fee       Revenue           CTR           CPM           CPC  \\\n",
       "count  23066.000000  23066.000000  23066.000000  23066.000000  23066.000000   \n",
       "mean       0.335123   1924.252331      8.409941      8.396849      0.336678   \n",
       "std        0.031963   3105.238410      9.262048      9.057760      0.341253   \n",
       "min        0.210000      0.000000      0.010874      0.000000      0.000000   \n",
       "25%        0.330000     55.365375      0.265107      1.749084      0.089736   \n",
       "50%        0.350000    926.335000      9.391248      8.371566      0.139347   \n",
       "75%        0.350000   2091.338150     13.470571     13.042018      0.546242   \n",
       "max        0.350000  21276.180000    200.000000    715.000000      7.264000   \n",
       "\n",
       "       KMEANS_LABELS  \n",
       "count   23066.000000  \n",
       "mean        2.197780  \n",
       "std         1.759108  \n",
       "min         0.000000  \n",
       "25%         0.000000  \n",
       "50%         2.000000  \n",
       "75%         4.000000  \n",
       "max         5.000000  "
      ]
     },
     "execution_count": 42,
     "metadata": {},
     "output_type": "execute_result"
    }
   ],
   "source": [
    "df.describe()"
   ]
  },
  {
   "cell_type": "code",
   "execution_count": 43,
   "metadata": {},
   "outputs": [
    {
     "data": {
      "text/html": [
       "<div>\n",
       "<style scoped>\n",
       "    .dataframe tbody tr th:only-of-type {\n",
       "        vertical-align: middle;\n",
       "    }\n",
       "\n",
       "    .dataframe tbody tr th {\n",
       "        vertical-align: top;\n",
       "    }\n",
       "\n",
       "    .dataframe thead th {\n",
       "        text-align: right;\n",
       "    }\n",
       "</style>\n",
       "<table border=\"1\" class=\"dataframe\">\n",
       "  <thead>\n",
       "    <tr style=\"text-align: right;\">\n",
       "      <th>KMEANS_LABELS</th>\n",
       "      <th>0</th>\n",
       "      <th>1</th>\n",
       "      <th>2</th>\n",
       "      <th>3</th>\n",
       "      <th>4</th>\n",
       "      <th>5</th>\n",
       "    </tr>\n",
       "  </thead>\n",
       "  <tbody>\n",
       "    <tr>\n",
       "      <th>Ad - Length</th>\n",
       "      <td>149.55</td>\n",
       "      <td>316.28</td>\n",
       "      <td>695.17</td>\n",
       "      <td>142.18</td>\n",
       "      <td>418.07</td>\n",
       "      <td>680.94</td>\n",
       "    </tr>\n",
       "    <tr>\n",
       "      <th>Ad- Width</th>\n",
       "      <td>558.21</td>\n",
       "      <td>254.54</td>\n",
       "      <td>316.80</td>\n",
       "      <td>571.18</td>\n",
       "      <td>157.14</td>\n",
       "      <td>117.92</td>\n",
       "    </tr>\n",
       "    <tr>\n",
       "      <th>Ad Size</th>\n",
       "      <td>75690.15</td>\n",
       "      <td>78364.78</td>\n",
       "      <td>213586.18</td>\n",
       "      <td>75625.96</td>\n",
       "      <td>56445.35</td>\n",
       "      <td>70159.76</td>\n",
       "    </tr>\n",
       "    <tr>\n",
       "      <th>Available_Impressions</th>\n",
       "      <td>46582.25</td>\n",
       "      <td>6583616.27</td>\n",
       "      <td>279059.43</td>\n",
       "      <td>843405.75</td>\n",
       "      <td>2070385.26</td>\n",
       "      <td>17858169.00</td>\n",
       "    </tr>\n",
       "    <tr>\n",
       "      <th>Matched_Queries</th>\n",
       "      <td>28661.60</td>\n",
       "      <td>3680737.02</td>\n",
       "      <td>147665.19</td>\n",
       "      <td>591156.63</td>\n",
       "      <td>1020575.04</td>\n",
       "      <td>9536142.81</td>\n",
       "    </tr>\n",
       "    <tr>\n",
       "      <th>Impressions</th>\n",
       "      <td>21257.39</td>\n",
       "      <td>3600777.01</td>\n",
       "      <td>126758.60</td>\n",
       "      <td>498760.11</td>\n",
       "      <td>980987.72</td>\n",
       "      <td>9181756.42</td>\n",
       "    </tr>\n",
       "    <tr>\n",
       "      <th>Clicks</th>\n",
       "      <td>2947.20</td>\n",
       "      <td>8548.28</td>\n",
       "      <td>13904.89</td>\n",
       "      <td>68157.27</td>\n",
       "      <td>3451.11</td>\n",
       "      <td>17394.94</td>\n",
       "    </tr>\n",
       "    <tr>\n",
       "      <th>Spend</th>\n",
       "      <td>318.92</td>\n",
       "      <td>4867.49</td>\n",
       "      <td>1224.16</td>\n",
       "      <td>7234.73</td>\n",
       "      <td>1763.33</td>\n",
       "      <td>15373.73</td>\n",
       "    </tr>\n",
       "    <tr>\n",
       "      <th>Fee</th>\n",
       "      <td>0.35</td>\n",
       "      <td>0.32</td>\n",
       "      <td>0.35</td>\n",
       "      <td>0.29</td>\n",
       "      <td>0.35</td>\n",
       "      <td>0.24</td>\n",
       "    </tr>\n",
       "    <tr>\n",
       "      <th>Revenue</th>\n",
       "      <td>208.48</td>\n",
       "      <td>3326.64</td>\n",
       "      <td>797.23</td>\n",
       "      <td>5205.55</td>\n",
       "      <td>1157.98</td>\n",
       "      <td>11761.38</td>\n",
       "    </tr>\n",
       "    <tr>\n",
       "      <th>CTR</th>\n",
       "      <td>15.97</td>\n",
       "      <td>0.24</td>\n",
       "      <td>13.64</td>\n",
       "      <td>13.77</td>\n",
       "      <td>0.39</td>\n",
       "      <td>0.19</td>\n",
       "    </tr>\n",
       "    <tr>\n",
       "      <th>CPM</th>\n",
       "      <td>14.71</td>\n",
       "      <td>1.38</td>\n",
       "      <td>11.92</td>\n",
       "      <td>15.13</td>\n",
       "      <td>1.80</td>\n",
       "      <td>1.71</td>\n",
       "    </tr>\n",
       "    <tr>\n",
       "      <th>CPC</th>\n",
       "      <td>0.10</td>\n",
       "      <td>0.60</td>\n",
       "      <td>0.09</td>\n",
       "      <td>0.11</td>\n",
       "      <td>0.58</td>\n",
       "      <td>0.92</td>\n",
       "    </tr>\n",
       "    <tr>\n",
       "      <th>freq</th>\n",
       "      <td>6842.00</td>\n",
       "      <td>1756.00</td>\n",
       "      <td>4514.00</td>\n",
       "      <td>1433.00</td>\n",
       "      <td>6994.00</td>\n",
       "      <td>1527.00</td>\n",
       "    </tr>\n",
       "  </tbody>\n",
       "</table>\n",
       "</div>"
      ],
      "text/plain": [
       "KMEANS_LABELS                 0           1          2          3           4  \\\n",
       "Ad - Length              149.55      316.28     695.17     142.18      418.07   \n",
       "Ad- Width                558.21      254.54     316.80     571.18      157.14   \n",
       "Ad Size                75690.15    78364.78  213586.18   75625.96    56445.35   \n",
       "Available_Impressions  46582.25  6583616.27  279059.43  843405.75  2070385.26   \n",
       "Matched_Queries        28661.60  3680737.02  147665.19  591156.63  1020575.04   \n",
       "Impressions            21257.39  3600777.01  126758.60  498760.11   980987.72   \n",
       "Clicks                  2947.20     8548.28   13904.89   68157.27     3451.11   \n",
       "Spend                    318.92     4867.49    1224.16    7234.73     1763.33   \n",
       "Fee                        0.35        0.32       0.35       0.29        0.35   \n",
       "Revenue                  208.48     3326.64     797.23    5205.55     1157.98   \n",
       "CTR                       15.97        0.24      13.64      13.77        0.39   \n",
       "CPM                       14.71        1.38      11.92      15.13        1.80   \n",
       "CPC                        0.10        0.60       0.09       0.11        0.58   \n",
       "freq                    6842.00     1756.00    4514.00    1433.00     6994.00   \n",
       "\n",
       "KMEANS_LABELS                    5  \n",
       "Ad - Length                 680.94  \n",
       "Ad- Width                   117.92  \n",
       "Ad Size                   70159.76  \n",
       "Available_Impressions  17858169.00  \n",
       "Matched_Queries         9536142.81  \n",
       "Impressions             9181756.42  \n",
       "Clicks                    17394.94  \n",
       "Spend                     15373.73  \n",
       "Fee                           0.24  \n",
       "Revenue                   11761.38  \n",
       "CTR                           0.19  \n",
       "CPM                           1.71  \n",
       "CPC                           0.92  \n",
       "freq                       1527.00  "
      ]
     },
     "execution_count": 43,
     "metadata": {},
     "output_type": "execute_result"
    }
   ],
   "source": [
    "clust_profile=df\n",
    "clust_profile=clust_profile.groupby('KMEANS_LABELS').mean()\n",
    "clust_profile['freq']=df.KMEANS_LABELS.value_counts().sort_index()\n",
    "np.round(clust_profile,2).T"
   ]
  },
  {
   "cell_type": "code",
   "execution_count": 44,
   "metadata": {},
   "outputs": [
    {
     "data": {
      "image/png": "[encoded data removed]",
      "text/plain": [
       "<Figure size 864x504 with 1 Axes>"
      ]
     },
     "metadata": {
      "needs_background": "light"
     },
     "output_type": "display_data"
    }
   ],
   "source": [
    "df.groupby(['KMEANS_LABELS','Device Type']).sum()['Clicks'].plot(kind='bar',figsize=(12,7));"
   ]
  },
  {
   "cell_type": "code",
   "execution_count": 45,
   "metadata": {},
   "outputs": [
    {
     "data": {
      "image/png": "[encoded data removed]",
      "text/plain": [
       "<Figure size 864x504 with 1 Axes>"
      ]
     },
     "metadata": {
      "needs_background": "light"
     },
     "output_type": "display_data"
    }
   ],
   "source": [
    "df.groupby(['KMEANS_LABELS','Device Type']).sum()['Revenue'].plot(kind='bar',figsize=(12,7));"
   ]
  },
  {
   "cell_type": "code",
   "execution_count": 46,
   "metadata": {},
   "outputs": [
    {
     "data": {
      "image/png": "[encoded data removed]",
      "text/plain": [
       "<Figure size 864x504 with 1 Axes>"
      ]
     },
     "metadata": {
      "needs_background": "light"
     },
     "output_type": "display_data"
    }
   ],
   "source": [
    "df.groupby(['KMEANS_LABELS','Device Type']).sum()['Spend'].plot(kind='bar',figsize=(12,7));"
   ]
  },
  {
   "cell_type": "code",
   "execution_count": 47,
   "metadata": {},
   "outputs": [
    {
     "data": {
      "image/png": "[encoded data removed]",
      "text/plain": [
       "<Figure size 864x504 with 1 Axes>"
      ]
     },
     "metadata": {
      "needs_background": "light"
     },
     "output_type": "display_data"
    }
   ],
   "source": [
    "df.groupby(['KMEANS_LABELS','Device Type']).mean()[['Ad Size','Spend']].plot(kind='bar',figsize=(12,7));"
   ]
  },
  {
   "cell_type": "code",
   "execution_count": 48,
   "metadata": {},
   "outputs": [
    {
     "data": {
      "image/png": "[encoded data removed]",
      "text/plain": [
       "<Figure size 864x504 with 1 Axes>"
      ]
     },
     "metadata": {
      "needs_background": "light"
     },
     "output_type": "display_data"
    }
   ],
   "source": [
    "df.groupby(['KMEANS_LABELS','Device Type']).mean()[['CPC','CTR','CPM']].plot(kind='bar',figsize=(12,7));"
   ]
  },
  {
   "cell_type": "code",
   "execution_count": 49,
   "metadata": {},
   "outputs": [],
   "source": [
    "#df.to_csv('cc.csv')"
   ]
  },
  {
   "cell_type": "code",
   "execution_count": 50,
   "metadata": {},
   "outputs": [
    {
     "data": {
      "text/plain": [
       "-0.08027416318517626"
      ]
     },
     "execution_count": 50,
     "metadata": {},
     "output_type": "execute_result"
    }
   ],
   "source": [
    "silhouette_samples(scaled_df,labels).min()"
   ]
  },
  {
   "cell_type": "code",
   "execution_count": null,
   "metadata": {},
   "outputs": [],
   "source": []
  }
 ],
 "metadata": {
  "kernelspec": {
   "display_name": "Python 3 (ipykernel)",
   "language": "python",
   "name": "python3"
  },
  "language_info": {
   "codemirror_mode": {
    "name": "ipython",
    "version": 3
   },
   "file_extension": ".py",
   "mimetype": "text/x-python",
   "name": "python",
   "nbconvert_exporter": "python",
   "pygments_lexer": "ipython3",
   "version": "3.9.7"
  }
 },
 "nbformat": 4,
 "nbformat_minor": 2
}
