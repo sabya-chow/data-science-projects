{
 "cells": [
  {
   "cell_type": "code",
   "execution_count": 2,
   "id": "ee2879ca",
   "metadata": {},
   "outputs": [],
   "source": [
    "import numpy as np\n",
    "import pandas as pd\n",
    "import seaborn as sns\n",
    "\n",
    "from statsmodels.formula.api import ols      # For n-way ANOVA\n",
    "from statsmodels.stats.anova import _get_covariance,anova_lm # For n-way ANOVA\n",
    "import matplotlib.pyplot as plt  # library for plots and visualizations\n",
    "import seaborn as sns  # library for visualizations\n",
    "%matplotlib inline\n",
    "import scipy.stats as stats  # this library contains a large number of probability distributions as well as a growing library of statistical functions\n",
    "from statsmodels.formula.api import ols\n",
    "from statsmodels.stats.anova import anova_lm\n"
   ]
  },
  {
   "cell_type": "markdown",
   "id": "e5c44305",
   "metadata": {},
   "source": [
    "### Problem 1\n",
    "\n",
    "###  A physiotherapist with a male football team is interested in studying the relationship between foot injuries and the positions at which the players play from the data collected"
   ]
  },
  {
   "cell_type": "code",
   "execution_count": 6,
   "id": "a99de387",
   "metadata": {},
   "outputs": [
    {
     "data": {
      "text/html": [
       "<div>\n",
       "<style scoped>\n",
       "    .dataframe tbody tr th:only-of-type {\n",
       "        vertical-align: middle;\n",
       "    }\n",
       "\n",
       "    .dataframe tbody tr th {\n",
       "        vertical-align: top;\n",
       "    }\n",
       "\n",
       "    .dataframe thead th {\n",
       "        text-align: right;\n",
       "    }\n",
       "</style>\n",
       "<table border=\"1\" class=\"dataframe\">\n",
       "  <thead>\n",
       "    <tr style=\"text-align: right;\">\n",
       "      <th></th>\n",
       "      <th>Striker</th>\n",
       "      <th>Forward</th>\n",
       "      <th>Attacking_Midfielder</th>\n",
       "      <th>Winger</th>\n",
       "      <th>sum</th>\n",
       "    </tr>\n",
       "  </thead>\n",
       "  <tbody>\n",
       "    <tr>\n",
       "      <th>Players_Injured</th>\n",
       "      <td>45</td>\n",
       "      <td>56</td>\n",
       "      <td>24</td>\n",
       "      <td>20</td>\n",
       "      <td>145</td>\n",
       "    </tr>\n",
       "    <tr>\n",
       "      <th>Players_not_Injured</th>\n",
       "      <td>32</td>\n",
       "      <td>38</td>\n",
       "      <td>11</td>\n",
       "      <td>9</td>\n",
       "      <td>90</td>\n",
       "    </tr>\n",
       "    <tr>\n",
       "      <th>total</th>\n",
       "      <td>77</td>\n",
       "      <td>94</td>\n",
       "      <td>35</td>\n",
       "      <td>29</td>\n",
       "      <td>235</td>\n",
       "    </tr>\n",
       "  </tbody>\n",
       "</table>\n",
       "</div>"
      ],
      "text/plain": [
       "                     Striker  Forward  Attacking_Midfielder  Winger  sum\n",
       "Players_Injured           45       56                    24      20  145\n",
       "Players_not_Injured       32       38                    11       9   90\n",
       "total                     77       94                    35      29  235"
      ]
     },
     "execution_count": 6,
     "metadata": {},
     "output_type": "execute_result"
    }
   ],
   "source": [
    "data={\"Striker\":[45,32], 'Forward':[56,38],'Attacking_Midfielder':[24,11],'Winger':[20,9]}\n",
    "player_data=pd.DataFrame(data=data, index=['Players_Injured','Players_not_Injured'])\n",
    "player_data['sum']=player_data.sum(axis=1)\n",
    "player_data.loc['total'] = player_data.iloc[:, :].sum()\n",
    "player_data\n"
   ]
  },
  {
   "cell_type": "markdown",
   "id": "23163a55",
   "metadata": {},
   "source": [
    "### 1.1 What is the probability that a randomly chosen player would suffer an injury?\n"
   ]
  },
  {
   "cell_type": "code",
   "execution_count": 29,
   "id": "e946f374",
   "metadata": {},
   "outputs": [
    {
     "name": "stdout",
     "output_type": "stream",
     "text": [
      "The probability that a randomly chosen player would suffer an injury is 61.7%\n"
     ]
    }
   ],
   "source": [
    "#prob_injured=Total numbers of players injured/Total numbers of players\n",
    "\n",
    "prob_injured=player_data.iloc[0,4]/player_data['sum'].sum()\n",
    "\n",
    "print(\"The probability that a randomly chosen player would suffer an injury is {}%\". format(round(prob_injured*100,2)))\n"
   ]
  },
  {
   "cell_type": "markdown",
   "id": "7e7dc088",
   "metadata": {},
   "source": [
    "### 1.2 What is the probability that a player is a forward or a winger?\n"
   ]
  },
  {
   "cell_type": "code",
   "execution_count": 38,
   "id": "ea738338",
   "metadata": {},
   "outputs": [
    {
     "name": "stdout",
     "output_type": "stream",
     "text": [
      "The probability that a player is a forward or a winger is 52.34%\n"
     ]
    }
   ],
   "source": [
    "#This will be sum of two probabilities i.e. either a forward or a winger\n",
    "prob_forward_winger=(player_data['Forward'].sum()+player_data['Winger'].sum())/player_data['sum'].sum()\n",
    "\n",
    "print(\"The probability that a player is a forward or a winger is {}%\". format(round(prob_forward_winger*100,2)))"
   ]
  },
  {
   "cell_type": "markdown",
   "id": "2040c2fb",
   "metadata": {},
   "source": [
    "### 1.3 What is the probability that a randomly chosen player plays in a striker position and has a foot injury?"
   ]
  },
  {
   "cell_type": "code",
   "execution_count": 44,
   "id": "ada10d49",
   "metadata": {},
   "outputs": [
    {
     "name": "stdout",
     "output_type": "stream",
     "text": [
      "The probability that a randomly chosen player plays in a striker position and has a foot injury is 19.15%\n"
     ]
    }
   ],
   "source": [
    "#This calls for a marginal probability of a randomly chosen player being both a striker and having an injury\n",
    "\n",
    "prob_striker_footinjury=player_data.loc['Players_Injured','Striker']/player_data['sum'].sum()\n",
    "\n",
    "print(\"The probability that a randomly chosen player plays in a striker position and has a foot injury is {}%\". format(round(prob_striker_footinjury*100,2)))"
   ]
  },
  {
   "cell_type": "markdown",
   "id": "44965468",
   "metadata": {},
   "source": [
    "\n",
    "### 1.4 What is the probability that a randomly chosen injured player is a striker?"
   ]
  },
  {
   "cell_type": "code",
   "execution_count": 9,
   "id": "21d4d105",
   "metadata": {},
   "outputs": [
    {
     "name": "stdout",
     "output_type": "stream",
     "text": [
      "The probability that a randomly chosen injured player is a striker is 32.77%\n"
     ]
    }
   ],
   "source": [
    "#This calls for probability that a randomly chosen player is striker given that he is injured.\n",
    "\n",
    "prob_injured=player_data.iloc[0,4]/player_data['sum'].sum()#probability that a randomly selected player is injured\n",
    "prob_striker=player_data['Striker'].sum()/player_data['sum'].sum()#probability that a randomly selected player is striker\n",
    "prob_striker_injured=prob_injured*prob_striker #Joint probability that a randomly selected player is both a striker and also injured\n",
    "\n",
    "prob_striker_given_injured=(prob_striker_injured)/prob_injured# Probability that the randomly selected player is a striker given that he is injured\n",
    "\n",
    "print(\"The probability that a randomly chosen injured player is a striker is {}%\". format(round(prob_striker_given_injured*100,2)))\n"
   ]
  },
  {
   "cell_type": "markdown",
   "id": "efdef3da",
   "metadata": {},
   "source": [
    "### 1.5 What is the probability that a randomly chosen injured player is either a forward or an attacking midfielder? "
   ]
  },
  {
   "cell_type": "code",
   "execution_count": 16,
   "id": "f1c59851",
   "metadata": {},
   "outputs": [
    {
     "name": "stdout",
     "output_type": "stream",
     "text": [
      "The probability that a randomly chosen injured player is either a forward or an attacking midfielder is 54.89%\n"
     ]
    }
   ],
   "source": [
    "# Calculating similarly the probability that a randomly chosen injured player is an attacking midfielder\n",
    "\n",
    "prob_injured=player_data.iloc[0,4]/player_data['sum'].sum()#probability that a randomly selected player is injured\n",
    "prob_attacking_midfielder_or_forward=(player_data['Attacking_Midfielder'].sum()+player_data['Forward'].sum())/player_data['sum'].sum()#probability that a randomly selected player is either an attacking midfielder or a striker\n",
    "prob_attacking_midfielder_or_forward_and_injured=prob_injured*prob_attacking_midfielder_or_forward #Joint probability that a randomly selected player is either a striker or an attacking midfielder and also injured\n",
    "prob_attacking_midfielder_or_forward_given_injured=(prob_attacking_midfielder_or_forward_and_injured)/prob_injured# Probability that the randomly selected player is a striker or an attackinh midfielder given that he is injured\n",
    "\n",
    "print(\"The probability that a randomly chosen injured player is either a forward or an attacking midfielder is {}%\". format(round(prob_attacking_midfielder_or_forward_given_injured*100,2)))\n"
   ]
  },
  {
   "cell_type": "markdown",
   "id": "495f9ed9",
   "metadata": {},
   "source": [
    "### Problem 2\n",
    "\n",
    "\n",
    "\n",
    "\n",
    "###  An independent research organization is trying to estimate the probability that an accident at a nuclear power plant will result in radiation leakage. The types of accidents possible at the plant are, fire hazards, mechanical failure, or human error. The research organization also knows that two or more types of accidents cannot occur simultaneously.\n",
    "\n",
    "#### According to the studies carried out by the organization, the probability of a radiation leak in case of a fire is 20%, the probability of a radiation leak in case of a mechanical 50%, and the probability of a radiation leak in case of a human error is 10%. The studies also showed the following;\n",
    "\n",
    "•\tThe probability of a radiation leak occurring simultaneously with a fire is 0.1%.\n",
    "•\tThe probability of a radiation leak occurring simultaneously with a mechanical failure is 0.15%.\n",
    "•\tThe probability of a radiation leak occurring simultaneously with a human error is 0.12%.\n",
    "\n",
    "On the basis of the information available, answer the questions below:\n",
    "\n"
   ]
  },
  {
   "cell_type": "markdown",
   "id": "500fd691",
   "metadata": {},
   "source": [
    "#### 2.1 What are the probabilities of a fire, a mechanical failure, and a human error respectively?\n",
    "\n"
   ]
  },
  {
   "cell_type": "code",
   "execution_count": 19,
   "id": "611bbbe0",
   "metadata": {},
   "outputs": [
    {
     "name": "stdout",
     "output_type": "stream",
     "text": [
      "The probability of fire is 0.5%\n",
      "The probability of mechanical error is 0.3%\n",
      "The probability of human error is 1.2%\n",
      " \n"
     ]
    }
   ],
   "source": [
    "p_R_given_F=0.2 # Probability of radiation given fire\n",
    "p_R_given_M=0.5 # Probability of radiation given mechanical error\n",
    "p_R_given_H=0.10 # Probability of radiation given human error\n",
    "\n",
    "p_R_and_F=(0.1/100)# Joint probability of radiation and fire\n",
    "p_R_and_M=(0.15/100)# joint probability of rediation and mechanical error\n",
    "p_R_and_H=(0.12/100) # joint probability of radiation and human error\n",
    "\n",
    "\n",
    "p_F=p_R_and_F/p_R_given_F   #p_R_and_F= p_F *p_R_given_F ; p_F being probability of fire\n",
    "p_M=p_R_and_M/p_R_given_M   # p_R_and_M=p_M*p_R_given_M; p_M being the probability of mechanical error\n",
    "p_H=p_R_and_H/p_R_given_H  # p_R_and_H=p_H*p_R_given_H;p_H being the probability of human error\n",
    "\n",
    "print (\"The probability of fire is {}%\\nThe probability of mechanical error is {}%\\nThe probability of human error is {}%\\n \".format(p_F*100,p_M*100,p_H*100))"
   ]
  },
  {
   "cell_type": "markdown",
   "id": "a6a10a93",
   "metadata": {},
   "source": [
    "#### 2.2 What is the probability of a radiation leak?\n"
   ]
  },
  {
   "cell_type": "code",
   "execution_count": 20,
   "id": "6a434315",
   "metadata": {},
   "outputs": [
    {
     "name": "stdout",
     "output_type": "stream",
     "text": [
      "The probability of radiation is 0.37%\n"
     ]
    }
   ],
   "source": [
    "p_R=p_F*p_R_given_F+p_M*p_R_given_M+p_H*p_R_given_H\n",
    "# probability of radiation=probabaility of fire* probability of radiation given fire +probabaility of mechanical error* probability of radiation given mechanical error+probabaility of human error* probability of radiation given human error\n",
    "\n",
    "print (\"The probability of radiation is {}%\".format(p_R*100))"
   ]
  },
  {
   "cell_type": "markdown",
   "id": "2ed3b5d0",
   "metadata": {},
   "source": [
    "#### 2.3 Suppose there has been a radiation leak in the reactor for which the definite cause is not known. What is the probability that it has been caused by:\n",
    "•\tA Fire.\n",
    "•\tA Mechanical Failure.\n",
    "•\tA Human Error."
   ]
  },
  {
   "cell_type": "code",
   "execution_count": 21,
   "id": "e85f9740",
   "metadata": {},
   "outputs": [
    {
     "name": "stdout",
     "output_type": "stream",
     "text": [
      "Thus given there is a radiation leak,the probability that it has been caused due to a fire,a mechanical error or a human error is 27.03%,40.54%,32.43% respectively\n"
     ]
    }
   ],
   "source": [
    "p_F_given_R=(p_R_and_F)/p_R # (probability of fire given radiation=probability of fire* probability of fire and radiation)/probability of radiation\n",
    "p_M_given_R=(p_R_and_M)/p_R # (probability of mechanical error given radiation=probability of mechanical error* probability of mechanical error and radiation)/probability of radiation\n",
    "p_H_given_R=(p_R_and_H)/p_R # (probability of human error given radiation=probability of humanl error* probability of human error and radiation)/probability of radiation\n",
    "\n",
    "print (\"Thus given there is a radiation leak,the probability that it has been caused due to a fire,a mechanical error or a human error is {}%,{}%,{}% respectively\".format(round(p_F_given_R*100,2),round(p_M_given_R*100,2),round(p_H_given_R*100,2)))"
   ]
  },
  {
   "cell_type": "markdown",
   "id": "90968593",
   "metadata": {},
   "source": [
    "### Problem 3\n",
    "**The breaking strength of gunny bags used for packaging cement is normally distributed with a mean of 5 kg per sq. centimeter and a standard deviation of 1.5 kg per sq. centimeter. The quality team of the cement company wants to know the following about the packaging material to better understand wastage or pilferage within the supply chain; Answer the questions below based on the given information; (Provide an appropriate visual representation of your answers, without which marks will be deducted)**\n",
    "\n"
   ]
  },
  {
   "cell_type": "markdown",
   "id": "0eb41695",
   "metadata": {},
   "source": [
    "### 3.1 What proportion of the gunny bags have a breaking strength less than 3.17 kg per sq cm?\n"
   ]
  },
  {
   "cell_type": "code",
   "execution_count": 24,
   "id": "debd5d09",
   "metadata": {},
   "outputs": [
    {
     "name": "stdout",
     "output_type": "stream",
     "text": [
      "The probability that the gunny bags have a breaking strength less than 3.17 kg per sq cm is0.1112 i.e. is 11.12%\n"
     ]
    }
   ],
   "source": [
    "# find the cumulative probability\n",
    "# norm.cdf() calculates the cumulative probability\n",
    "mu=5\n",
    "sigma=1.5\n",
    "a=3.17\n",
    "prob_less_than_a = stats.norm.cdf(a, mu, sigma)\n",
    "print(\n",
    "    \"The probability that the gunny bags have a breaking strength less than 3.17 kg per sq cm is{} i.e. is {}%\".format(\n",
    "    round(prob_less_than_a, 4),round(prob_less_than_a*100, 2))\n",
    ")"
   ]
  },
  {
   "cell_type": "code",
   "execution_count": 122,
   "id": "9e360eb3",
   "metadata": {},
   "outputs": [
    {
     "data": {
      "image/png": "[encoded data removed]",
      "text/plain": [
       "<Figure size 432x288 with 1 Axes>"
      ]
     },
     "metadata": {
      "needs_background": "light"
     },
     "output_type": "display_data"
    }
   ],
   "source": [
    "# plot the probability distribution\n",
    "# We are plotting the distributions here to better visualize the calculations.\n",
    "density=pd.DataFrame()\n",
    "density['x']=np.linspace(0,11,100)\n",
    "density['pdf']=stats.norm.pdf(density['x'],mu,sigma)\n",
    "plt.plot(density[\"x\"], density[\"pdf\"]) # plot the pdf of the normal distribution\n",
    "plt.axvline(x=a, c=\"r\") # draw a red vertical line at x = a\n",
    "x1 = np.linspace(density[\"x\"].min(), a, 50) # create an array of 50 numbers between min strength and 3.17\n",
    "plt.fill_between(x1, stats.norm.pdf(x1, mu, sigma), color=\"r\") # fill the specified region with red color\n",
    "plt.xlabel(\"Strength_gunny_bags\") # set the x-axis label\n",
    "plt.ylabel(\"Probability\") # set the y-axis label\n",
    "plt.title(\"Normal Distribution\") # set the title\n",
    "plt.show() # display the plot\n"
   ]
  },
  {
   "cell_type": "markdown",
   "id": "66f142e0",
   "metadata": {},
   "source": [
    "### 3.2 What proportion of the gunny bags have a breaking strength at least 3.6 kg per sq cm.?\n",
    "\n"
   ]
  },
  {
   "cell_type": "code",
   "execution_count": 26,
   "id": "3588bd8d",
   "metadata": {},
   "outputs": [
    {
     "name": "stdout",
     "output_type": "stream",
     "text": [
      "The probability that the gunny bags have a breaking strength at least 3.6 kg per sq cm. is0.8247 i.e. 82.47%\n"
     ]
    }
   ],
   "source": [
    "mu=5\n",
    "sigma=1.5\n",
    "a=3.6\n",
    "prob_more_than_a = 1-stats.norm.cdf(a, mu, sigma)\n",
    "print(\n",
    "    \"The probability that the gunny bags have a breaking strength at least 3.6 kg per sq cm. is{} i.e. {}%\".format(\n",
    "    round(prob_more_than_a, 4),round(prob_more_than_a*100, 2))\n",
    ")"
   ]
  },
  {
   "cell_type": "code",
   "execution_count": 127,
   "id": "4963455e",
   "metadata": {},
   "outputs": [
    {
     "data": {
      "text/plain": [
       "<matplotlib.collections.PolyCollection at 0x284b80c8fd0>"
      ]
     },
     "execution_count": 127,
     "metadata": {},
     "output_type": "execute_result"
    },
    {
     "data": {
      "image/png": "[encoded data removed]",
      "text/plain": [
       "<Figure size 432x288 with 1 Axes>"
      ]
     },
     "metadata": {
      "needs_background": "light"
     },
     "output_type": "display_data"
    }
   ],
   "source": [
    "#Plot the probability distribution\n",
    "density=pd.DataFrame()\n",
    "x=np.linspace(0,11,100)\n",
    "density['x']=x\n",
    "density['pdf']=stats.norm.pdf(density['x'],mu,sigma)\n",
    "plt.plot(density['x'],density['pdf'])\n",
    "plt.axvline(x=3.6,c='r')\n",
    "x1=np.linspace(3.6,x.max(),100)\n",
    "plt.fill_between(x1,stats.norm.pdf(x1,mu,sigma),color='r')\n"
   ]
  },
  {
   "cell_type": "markdown",
   "id": "50d8d737",
   "metadata": {},
   "source": [
    "### 3.3 What proportion of the gunny bags have a breaking strength between 5 and 5.5 kg per sq cm.?\n"
   ]
  },
  {
   "cell_type": "code",
   "execution_count": 32,
   "id": "6aaa84ca",
   "metadata": {},
   "outputs": [
    {
     "name": "stdout",
     "output_type": "stream",
     "text": [
      "The probability that the gunny bags have a breaking strength between 5 and 5.5 kg per sq cm. is0.1306 i.e. 13.06%\n"
     ]
    }
   ],
   "source": [
    "a=5\n",
    "b=5.5\n",
    "\n",
    "prob_less_than_a=stats.norm.cdf(a,mu,sigma)\n",
    "prob_less_than_b = stats.norm.cdf(b, mu, sigma)\n",
    "print(\n",
    "    \"The probability that the gunny bags have a breaking strength between 5 and 5.5 kg per sq cm. is{} i.e. {}%\".format(\n",
    "    round(prob_less_than_b-prob_less_than_a, 4),round((prob_less_than_b-prob_less_than_a)*100,2) )\n",
    ")"
   ]
  },
  {
   "cell_type": "code",
   "execution_count": 139,
   "id": "b92101e3",
   "metadata": {},
   "outputs": [
    {
     "data": {
      "text/plain": [
       "<matplotlib.collections.PolyCollection at 0x284b98f0a30>"
      ]
     },
     "execution_count": 139,
     "metadata": {},
     "output_type": "execute_result"
    },
    {
     "data": {
      "image/png": "[encoded data removed]",
      "text/plain": [
       "<Figure size 432x288 with 1 Axes>"
      ]
     },
     "metadata": {
      "needs_background": "light"
     },
     "output_type": "display_data"
    }
   ],
   "source": [
    "#Plot the probability distribution\n",
    "density=pd.DataFrame()\n",
    "x=np.linspace(0,11,100)\n",
    "density['x']=x\n",
    "density['pdf']=stats.norm.pdf(density['x'],mu,sigma)\n",
    "plt.plot(density['x'],density['pdf'])\n",
    "plt.axvline(x=5,c='r',ymax=stats.norm.pdf(5,mu,sigma))\n",
    "plt.axvline(x=5.5,c='r',ymax=stats.norm.pdf(5,mu,sigma))\n",
    "x1=np.linspace(5,5.5,100)\n",
    "plt.fill_between(x1,stats.norm.pdf(x1,mu,sigma),color='r',)\n",
    "\n"
   ]
  },
  {
   "cell_type": "markdown",
   "id": "cafb16b1",
   "metadata": {},
   "source": [
    "3.4 What proportion of the gunny bags have a breaking strength NOT between 3 and 7.5 kg per sq cm.?\n",
    " "
   ]
  },
  {
   "cell_type": "code",
   "execution_count": 37,
   "id": "684e3d41",
   "metadata": {},
   "outputs": [
    {
     "name": "stdout",
     "output_type": "stream",
     "text": [
      "The proportion of the gunny bags that have a breaking strength NOT between 3 and 7.5 kg per sq cm. is 0.139 of the total population of gunny bags\n"
     ]
    }
   ],
   "source": [
    "a=3\n",
    "b=7.5\n",
    "\n",
    "prob_less_than_a=stats.norm.cdf(a,mu,sigma)\n",
    "prob_more_than_b=1-stats.norm.cdf(b,mu,sigma)\n",
    "\n",
    "Prob_not_between_a_and_b=prob_less_than_a+prob_more_than_b\n",
    "\n",
    "print(\"The proportion of the gunny bags that have a breaking strength NOT between 3 and 7.5 kg per sq cm. is {} of the total population of gunny bags\".format(round(Prob_not_between_a_and_b,4)) )"
   ]
  },
  {
   "cell_type": "code",
   "execution_count": 143,
   "id": "1ae63049",
   "metadata": {},
   "outputs": [
    {
     "data": {
      "text/plain": [
       "<matplotlib.collections.PolyCollection at 0x284b9b170a0>"
      ]
     },
     "execution_count": 143,
     "metadata": {},
     "output_type": "execute_result"
    },
    {
     "data": {
      "image/png": "[encoded data removed]",
      "text/plain": [
       "<Figure size 432x288 with 1 Axes>"
      ]
     },
     "metadata": {
      "needs_background": "light"
     },
     "output_type": "display_data"
    }
   ],
   "source": [
    "plt.plot(density['x'],density['pdf']);\n",
    "plt.axvline(x=3,c='r',ymax=stats.norm.pdf(3,mu,sigma))\n",
    "plt.axvline(x=7.5,c='r',ymax=stats.norm.pdf(7.5,mu,sigma))\n",
    "x1=np.linspace(x.min(),3,100)\n",
    "x2=np.linspace(7.5,x.max(),100)\n",
    "plt.fill_between(x1,stats.norm.pdf(x1,mu,sigma),color='r')\n",
    "plt.fill_between(x2,stats.norm.pdf(x2,mu,sigma),color='r',)\n"
   ]
  },
  {
   "cell_type": "markdown",
   "id": "640d0b7c",
   "metadata": {},
   "source": [
    "### Problem 4\n",
    "\n",
    "### 4.Grades of the final examination in a training course are found to be normally distributed, with a mean of 77 and a standard deviation of 8.5. Based on the given information answer the questions below.\n",
    " \n"
   ]
  },
  {
   "cell_type": "markdown",
   "id": "f6f17dfd",
   "metadata": {},
   "source": [
    "### 4.1 What is the probability that a randomly chosen student gets a grade below 85 on this exam?\n",
    "\n"
   ]
  },
  {
   "cell_type": "code",
   "execution_count": 39,
   "id": "a3304afb",
   "metadata": {},
   "outputs": [
    {
     "name": "stdout",
     "output_type": "stream",
     "text": [
      "The probability that a randomly chosen student gets a grade below 85 on this exam is 0.8267 i.e. 82.67%\n"
     ]
    },
    {
     "data": {
      "image/png": "[encoded data removed]",
      "text/plain": [
       "<Figure size 432x288 with 1 Axes>"
      ]
     },
     "metadata": {
      "needs_background": "light"
     },
     "output_type": "display_data"
    }
   ],
   "source": [
    "mu=77\n",
    "sigma=8.5\n",
    "a=85\n",
    "prob_less_than_a=stats.norm.cdf(a,mu,sigma)\n",
    "print(\n",
    "\"The probability that a randomly chosen student gets a grade below 85 on this exam is {} i.e. {}%\".format(round(prob_less_than_a,4),round(prob_less_than_a*100,2)))\n",
    "density=pd.DataFrame()\n",
    "density['x']=np.linspace(0,110,100)\n",
    "density['pdf']=stats.norm.pdf(density['x'],mu,sigma)\n",
    "plt.plot(density[\"x\"], density[\"pdf\"]) # plot the pdf of the normal distribution\n",
    "plt.axvline(x=a, c=\"r\") # draw a red vertical line at x = a\n",
    "x1 = np.linspace(density[\"x\"].min(), a, 100) # create an array of 50 numbers between min strength and 3.17\n",
    "plt.fill_between(x1, stats.norm.pdf(x1, mu, sigma), color=\"g\") # fill the specified region with red color\n",
    "plt.xlabel(\"Strength_gunny_bags\") # set the x-axis label\n",
    "plt.ylabel(\"Probability\") # set the y-axis label\n",
    "plt.title(\"Normal Distribution\") # set the title\n",
    "plt.show() # display the plot"
   ]
  },
  {
   "cell_type": "markdown",
   "id": "4424f5a3",
   "metadata": {},
   "source": [
    "### 4.2 What is the probability that a randomly selected student scores between 65 and 87?\n"
   ]
  },
  {
   "cell_type": "code",
   "execution_count": 40,
   "id": "4bd5806a",
   "metadata": {},
   "outputs": [
    {
     "name": "stdout",
     "output_type": "stream",
     "text": [
      "The probability that a randomly selected student scores between 65 and 87 is 0.8013 i.e 80.13% \n"
     ]
    },
    {
     "data": {
      "text/plain": [
       "<matplotlib.collections.PolyCollection at 0x2570a0ac520>"
      ]
     },
     "execution_count": 40,
     "metadata": {},
     "output_type": "execute_result"
    },
    {
     "data": {
      "image/png": "[encoded data removed]",
      "text/plain": [
       "<Figure size 432x288 with 1 Axes>"
      ]
     },
     "metadata": {
      "needs_background": "light"
     },
     "output_type": "display_data"
    }
   ],
   "source": [
    "b=65\n",
    "c=87\n",
    "prob_less_than_b=stats.norm.cdf(b,mu,sigma)\n",
    "prob_less_than_c=stats.norm.cdf(c,mu,sigma)\n",
    "print(\n",
    "\"The probability that a randomly selected student scores between 65 and 87 is {} i.e {}% \".format(round(prob_less_than_c-prob_less_than_b,4),round((prob_less_than_c-prob_less_than_b)*100,2)))\n",
    "plt.plot(density['x'],density['pdf'])\n",
    "plt.axvline(x=65,c='r',ymax=stats.norm.pdf(65,mu,sigma))\n",
    "plt.axvline(x=87,c='r',ymax=stats.norm.pdf(87,mu,sigma))\n",
    "x1=np.linspace(65,87,100)\n",
    "plt.fill_between(x1,stats.norm.pdf(x1,mu,sigma),color='g',)"
   ]
  },
  {
   "cell_type": "markdown",
   "id": "409fd305",
   "metadata": {},
   "source": [
    "### 4.3 What should be the passing cut-off so that 75% of the students clear the exam?"
   ]
  },
  {
   "cell_type": "code",
   "execution_count": 41,
   "id": "b585f711",
   "metadata": {},
   "outputs": [
    {
     "name": "stdout",
     "output_type": "stream",
     "text": [
      "The passing cut-off so that 75% of the students clear the exam is 71.2668 \n"
     ]
    },
    {
     "data": {
      "image/png": "[encoded data removed]",
      "text/plain": [
       "<Figure size 432x288 with 1 Axes>"
      ]
     },
     "metadata": {
      "needs_background": "light"
     },
     "output_type": "display_data"
    }
   ],
   "source": [
    "#To decide on a marks so that 75% of the students pass, we have to find out the score above which 75% of the student's score.Thus we need to find the score for which the left tail area is 25%.\n",
    "marks_cut_off_75_percent=stats.norm.ppf(0.25,mu,sigma)\n",
    "print(\n",
    "\"The passing cut-off so that 75% of the students clear the exam is {} \".format(round(marks_cut_off_75_percent,4)))\n",
    "\n",
    "plt.plot(density[\"x\"], density[\"pdf\"]) # plot the pdf of the normal distribution\n",
    "plt.axvline(x=marks_cut_off_75_percent, c=\"g\") # draw a red vertical line at x = a\n",
    "x1 = np.linspace(density['x'].min(), marks_cut_off_75_percent, 100) # create an array of 50 numbers between min strength and 3.17\n",
    "plt.fill_between(x1, stats.norm.pdf(x1, mu, sigma), color=\"g\") # fill the specified region with red color\n",
    "plt.xlabel(\"Strength_gunny_bags\") # set the x-axis label\n",
    "plt.ylabel(\"Probability\") # set the y-axis label\n",
    "plt.title(\"Normal Distribution\") # set the title\n",
    "plt.show() # display the plot"
   ]
  },
  {
   "cell_type": "markdown",
   "id": "4a004fc8",
   "metadata": {},
   "source": [
    "### Problem 5:\n",
    " \n",
    "### Zingaro stone printing is a company that specializes in printing images or patterns on polished or unpolished stones. However, for the optimum level of printing of the image the stone surface has to have a Brinell's hardness index of at least 150. Recently, Zingaro has received a batch of polished and unpolished stones from its clients. Use the data provided to answer the following (assuming a 5% significance level);\n",
    " \n"
   ]
  },
  {
   "cell_type": "markdown",
   "id": "60d497c9",
   "metadata": {},
   "source": [
    "### 5.1 Earlier experience of Zingaro with this particular client is favorable as the stone surface was found to be of adequate hardness. However, Zingaro has reason to believe now that the unpolished stones may not be suitable for printing. Do you think Zingaro is justified in thinking so?"
   ]
  },
  {
   "cell_type": "code",
   "execution_count": 42,
   "id": "fb309f3e",
   "metadata": {},
   "outputs": [
    {
     "data": {
      "text/html": [
       "<div>\n",
       "<style scoped>\n",
       "    .dataframe tbody tr th:only-of-type {\n",
       "        vertical-align: middle;\n",
       "    }\n",
       "\n",
       "    .dataframe tbody tr th {\n",
       "        vertical-align: top;\n",
       "    }\n",
       "\n",
       "    .dataframe thead th {\n",
       "        text-align: right;\n",
       "    }\n",
       "</style>\n",
       "<table border=\"1\" class=\"dataframe\">\n",
       "  <thead>\n",
       "    <tr style=\"text-align: right;\">\n",
       "      <th></th>\n",
       "      <th>Unpolished</th>\n",
       "      <th>Treated and Polished</th>\n",
       "    </tr>\n",
       "  </thead>\n",
       "  <tbody>\n",
       "    <tr>\n",
       "      <th>0</th>\n",
       "      <td>164.481713</td>\n",
       "      <td>133.209393</td>\n",
       "    </tr>\n",
       "    <tr>\n",
       "      <th>1</th>\n",
       "      <td>154.307045</td>\n",
       "      <td>138.482771</td>\n",
       "    </tr>\n",
       "    <tr>\n",
       "      <th>2</th>\n",
       "      <td>129.861048</td>\n",
       "      <td>159.665201</td>\n",
       "    </tr>\n",
       "    <tr>\n",
       "      <th>3</th>\n",
       "      <td>159.096184</td>\n",
       "      <td>145.663528</td>\n",
       "    </tr>\n",
       "    <tr>\n",
       "      <th>4</th>\n",
       "      <td>135.256748</td>\n",
       "      <td>136.789227</td>\n",
       "    </tr>\n",
       "  </tbody>\n",
       "</table>\n",
       "</div>"
      ],
      "text/plain": [
       "   Unpolished   Treated and Polished\n",
       "0   164.481713            133.209393\n",
       "1   154.307045            138.482771\n",
       "2   129.861048            159.665201\n",
       "3   159.096184            145.663528\n",
       "4   135.256748            136.789227"
      ]
     },
     "execution_count": 42,
     "metadata": {},
     "output_type": "execute_result"
    }
   ],
   "source": [
    "stones=pd.read_csv(r\"D:\\DSBA\\The course\\14-AS-project\\Zingaro_Company.csv\")\n",
    "stones.head()\n",
    "\n"
   ]
  },
  {
   "cell_type": "code",
   "execution_count": 177,
   "id": "648ac256",
   "metadata": {},
   "outputs": [
    {
     "data": {
      "text/plain": [
       "(75, 2)"
      ]
     },
     "execution_count": 177,
     "metadata": {},
     "output_type": "execute_result"
    }
   ],
   "source": [
    "stones.shape"
   ]
  },
  {
   "cell_type": "code",
   "execution_count": 224,
   "id": "bf796b8c",
   "metadata": {},
   "outputs": [
    {
     "name": "stdout",
     "output_type": "stream",
     "text": [
      "<class 'pandas.core.frame.DataFrame'>\n",
      "RangeIndex: 75 entries, 0 to 74\n",
      "Data columns (total 2 columns):\n",
      " #   Column                Non-Null Count  Dtype  \n",
      "---  ------                --------------  -----  \n",
      " 0   Unpolished            75 non-null     float64\n",
      " 1   Treated and Polished  75 non-null     float64\n",
      "dtypes: float64(2)\n",
      "memory usage: 1.3 KB\n"
     ]
    }
   ],
   "source": [
    "stones.info()\n"
   ]
  },
  {
   "cell_type": "code",
   "execution_count": 202,
   "id": "cf45f947",
   "metadata": {},
   "outputs": [
    {
     "data": {
      "text/html": [
       "<div>\n",
       "<style scoped>\n",
       "    .dataframe tbody tr th:only-of-type {\n",
       "        vertical-align: middle;\n",
       "    }\n",
       "\n",
       "    .dataframe tbody tr th {\n",
       "        vertical-align: top;\n",
       "    }\n",
       "\n",
       "    .dataframe thead th {\n",
       "        text-align: right;\n",
       "    }\n",
       "</style>\n",
       "<table border=\"1\" class=\"dataframe\">\n",
       "  <thead>\n",
       "    <tr style=\"text-align: right;\">\n",
       "      <th></th>\n",
       "      <th>Unpolished</th>\n",
       "      <th>Treated and Polished</th>\n",
       "    </tr>\n",
       "  </thead>\n",
       "  <tbody>\n",
       "    <tr>\n",
       "      <th>count</th>\n",
       "      <td>75.000000</td>\n",
       "      <td>75.000000</td>\n",
       "    </tr>\n",
       "    <tr>\n",
       "      <th>mean</th>\n",
       "      <td>134.110527</td>\n",
       "      <td>147.788117</td>\n",
       "    </tr>\n",
       "    <tr>\n",
       "      <th>std</th>\n",
       "      <td>33.041804</td>\n",
       "      <td>15.587355</td>\n",
       "    </tr>\n",
       "    <tr>\n",
       "      <th>min</th>\n",
       "      <td>48.406838</td>\n",
       "      <td>107.524167</td>\n",
       "    </tr>\n",
       "    <tr>\n",
       "      <th>25%</th>\n",
       "      <td>115.329753</td>\n",
       "      <td>138.268300</td>\n",
       "    </tr>\n",
       "    <tr>\n",
       "      <th>50%</th>\n",
       "      <td>135.597121</td>\n",
       "      <td>145.721322</td>\n",
       "    </tr>\n",
       "    <tr>\n",
       "      <th>75%</th>\n",
       "      <td>158.215098</td>\n",
       "      <td>157.373318</td>\n",
       "    </tr>\n",
       "    <tr>\n",
       "      <th>max</th>\n",
       "      <td>200.161313</td>\n",
       "      <td>192.272856</td>\n",
       "    </tr>\n",
       "  </tbody>\n",
       "</table>\n",
       "</div>"
      ],
      "text/plain": [
       "       Unpolished   Treated and Polished\n",
       "count    75.000000             75.000000\n",
       "mean    134.110527            147.788117\n",
       "std      33.041804             15.587355\n",
       "min      48.406838            107.524167\n",
       "25%     115.329753            138.268300\n",
       "50%     135.597121            145.721322\n",
       "75%     158.215098            157.373318\n",
       "max     200.161313            192.272856"
      ]
     },
     "execution_count": 202,
     "metadata": {},
     "output_type": "execute_result"
    }
   ],
   "source": [
    "stones.describe()"
   ]
  },
  {
   "cell_type": "code",
   "execution_count": 174,
   "id": "9a8ff9ed",
   "metadata": {},
   "outputs": [
    {
     "data": {
      "text/plain": [
       "Unpolished              0\n",
       "Treated and Polished    0\n",
       "dtype: int64"
      ]
     },
     "execution_count": 174,
     "metadata": {},
     "output_type": "execute_result"
    }
   ],
   "source": [
    "stones.isnull().sum()"
   ]
  },
  {
   "cell_type": "markdown",
   "id": "41e48937",
   "metadata": {},
   "source": [
    "### Thus the given data is non-null, void of unusual value and hence can be used for statiscal analysis"
   ]
  },
  {
   "cell_type": "markdown",
   "id": "94e55939",
   "metadata": {},
   "source": [
    "### Step 1: Define null and alternative hypotheses¶\n",
    "Testing whether unpolished stones are suitable for printing?\n",
    "\n",
    "##### Null hypothesis states that mean hardness,  𝜇  is equals to 150.\n",
    "##### Alternative hypothesis states that the mean hardness,  𝜇  is unequal to 150.\n",
    "𝐻0 :  𝜇  = 150\n",
    "𝐻𝐴 :  𝜇   ≠  150"
   ]
  },
  {
   "cell_type": "markdown",
   "id": "c9abe514",
   "metadata": {},
   "source": [
    "### Step 2: Decide the significance level¶\n",
    " Here we select  𝛼  = 0.05."
   ]
  },
  {
   "cell_type": "markdown",
   "id": "b9fa1554",
   "metadata": {},
   "source": [
    "### Step 3: Identify the test statistic\n",
    "We do not know the population standard deviation and n = 75. So we use the t distribution and the  𝑡𝑆𝑇𝐴𝑇  test statistic"
   ]
  },
  {
   "cell_type": "markdown",
   "id": "ab3d2fd6",
   "metadata": {},
   "source": [
    "### Step 4: Calculate the p - value and test statistic"
   ]
  },
  {
   "cell_type": "markdown",
   "id": "94789db0",
   "metadata": {},
   "source": [
    "**scipy.stats.ttest_1samp calculates the t test for the mean of one sample given the sample observations and  the expected value in the null hypothesis. This function returns t statistic and the two-tailed p value.**"
   ]
  },
  {
   "cell_type": "code",
   "execution_count": 43,
   "id": "a134104e",
   "metadata": {},
   "outputs": [
    {
     "name": "stdout",
     "output_type": "stream",
     "text": [
      "One sample t test \n",
      "t statistic: -4.1646 p value: 8.342573994839285e-05 \n"
     ]
    }
   ],
   "source": [
    "from scipy.stats import ttest_1samp\n",
    "# one sample t-test\n",
    "# null hypothesis: expected value = 150\n",
    "result = ttest_1samp(stones.iloc[:,0], 150)\n",
    "print('One sample t test \\nt statistic: {0} p value: {1} '.format(round(result.statistic,4),result.pvalue))\n"
   ]
  },
  {
   "cell_type": "markdown",
   "id": "2a93d828",
   "metadata": {},
   "source": [
    "### Step 5 Decide to reject or accept null hypothesis"
   ]
  },
  {
   "cell_type": "code",
   "execution_count": 210,
   "id": "81d3dc8e",
   "metadata": {},
   "outputs": [
    {
     "name": "stdout",
     "output_type": "stream",
     "text": [
      "Level of significance: 0.05\n",
      "Our one-sample t-test p-value= 8.342573994839285e-05\n",
      "We have evidence to reject the null hypothesis since p value < Level of significance\n"
     ]
    }
   ],
   "source": [
    "# p_value < 0.05 => alternative hypothesis:\n",
    "\n",
    "alpha_value = 0.05 # Level of significance\n",
    "print('Level of significance: %.2f' %alpha_value)\n",
    "print (\"Our one-sample t-test p-value=\", p_value)\n",
    "if p_value < alpha_value: \n",
    "    print('We have evidence to reject the null hypothesis since p value < Level of significance')\n",
    "else:\n",
    "    print('We have no evidence to reject the null hypothesis since p value > Level of significance') \n",
    "\n"
   ]
  },
  {
   "cell_type": "markdown",
   "id": "54954c23",
   "metadata": {},
   "source": [
    "In this example, p value is 8.342573994839285e-05 and it is significantly lesserer than 5% level of significance\n",
    "\n",
    "So the statistical decision is to reject the null hypothesis at 5% level of significance.\n",
    "\n",
    "### So at 95% confidence level, there is  sufficient evidence  to prove that the hardness of unpolished stones in the sample received is significantly different from  the optimum hardness of 150 and hence may not be suitable for printing"
   ]
  },
  {
   "cell_type": "markdown",
   "id": "ace1770d",
   "metadata": {},
   "source": [
    "\n",
    "## 5.2 Is the mean hardness of the polished and unpolished stones the same?\n"
   ]
  },
  {
   "cell_type": "markdown",
   "id": "bce8f68c",
   "metadata": {},
   "source": [
    "### Step 1: Define the Null and alternate Hypothesis:\n",
    "\n",
    "   Null hypothesis states that mean hardness is same for both polished(𝜇1) and unpolished(𝜇2)  stone samples\n",
    "   Alternative hypothesis states that the mean hardness is different between polished(𝜇1)  and unpolished (𝜇2) stone samples\n",
    "   𝐻0 : 𝜇1 =  𝜇2\n",
    "   𝐻𝐴 : 𝜇1 ≠ 𝜇2"
   ]
  },
  {
   "cell_type": "markdown",
   "id": "49c97307",
   "metadata": {},
   "source": [
    "### Step 2: Define level of significance\n",
    "\n",
    "   Level of significance is 95%\\\n",
    "   p_val_sig=0.05"
   ]
  },
  {
   "cell_type": "markdown",
   "id": "96190f28",
   "metadata": {},
   "source": [
    "### Step 3: Select the correct statistical test\n",
    "\n",
    "For this purpose two sample t-test using independent sample can be used as the population variance is unknown & both the samples are of the same size"
   ]
  },
  {
   "cell_type": "markdown",
   "id": "9c30f583",
   "metadata": {},
   "source": [
    "### Step 4 :Calculate the test statistics and p-value"
   ]
  },
  {
   "cell_type": "code",
   "execution_count": 123,
   "id": "308c06ec",
   "metadata": {},
   "outputs": [
    {
     "data": {
      "text/plain": [
       "Ttest_indResult(statistic=-3.242232050141406, pvalue=0.001465515019462831)"
      ]
     },
     "execution_count": 123,
     "metadata": {},
     "output_type": "execute_result"
    }
   ],
   "source": [
    "from scipy.stats import ttest_ind\n",
    "\n",
    "result=ttest_ind(stones.iloc[:,0],stones.iloc[:,1])\n",
    "result\n",
    "\n"
   ]
  },
  {
   "cell_type": "markdown",
   "id": "5b2dc228",
   "metadata": {},
   "source": [
    "### Step 5 Decide to reject or accept null hypothesis"
   ]
  },
  {
   "cell_type": "code",
   "execution_count": 264,
   "id": "a6f2ce63",
   "metadata": {},
   "outputs": [
    {
     "name": "stdout",
     "output_type": "stream",
     "text": [
      "At 95% level of significance, there is significant difference between the mean hardness of polished and unpolished stone and hence the null hypothesis is rejected.\n"
     ]
    }
   ],
   "source": [
    "if result.pvalue>0.05:\n",
    "    print(\"At 95% level of significance, there is no significant difference between the mean hardness of polished and unpolished stone and hence the null hypothesis can't be rejected.\")\n",
    "else :\n",
    "    print(\"At 95% level of significance, there is significant difference between the mean hardness of polished and unpolished stone and hence the null hypothesis is rejected.\")"
   ]
  },
  {
   "cell_type": "markdown",
   "id": "49bce367",
   "metadata": {},
   "source": [
    "### Problem 6:\n",
    " \n",
    "#### Aquarius health club, one of the largest and most popular cross-fit gyms in the country has been advertising a rigorous program for body conditioning. The program is considered successful if the candidate is able to do more than 5 push-ups, as compared to when he/she enrolled in the program. Using the sample data provided can you conclude whether the program is successful? (Consider the level of Significance as 5%)\n",
    "\n",
    "Note that this is a problem of the paired-t-test. Since the claim is that the training will make a difference of more than 5, the null and alternative hypotheses must be formed accordingly.\n"
   ]
  },
  {
   "cell_type": "markdown",
   "id": "965ef8ec",
   "metadata": {},
   "source": [
    "### Step 1: State the null and alternate hypothesis\n",
    "\n",
    "Null hypothesis states that there is no difference between the mean numbers of push ups made \\\n",
    "by a candidate before(𝜇1) and after enrolling for the program(𝜇2)\\\n",
    "i.e. 𝜇1=𝜇2 \\\n",
    "Alternative hypothesis is that there is significant difference between the mean numbers of push ups made\\\n",
    "by a candidate before and after enrolling for the program \\\n",
    "i.e. 𝜇1 ≠ 𝜇2"
   ]
  },
  {
   "cell_type": "markdown",
   "id": "1d3cfe5b",
   "metadata": {},
   "source": [
    "### Step 2: Decide the level of significance:\n",
    "\n",
    "   Level of significance is 95%\\\n",
    "   p_val_sig=0.05"
   ]
  },
  {
   "cell_type": "markdown",
   "id": "446684df",
   "metadata": {},
   "source": [
    "### Step 3: Select the correct statistical test\n",
    "\n",
    "For this purpose two sample t-test using relative sample can be used as the population variance is unknown & both the samples are of the same size"
   ]
  },
  {
   "cell_type": "markdown",
   "id": "24845bd5",
   "metadata": {},
   "source": [
    "### Step 4 :Calculate the test statistics and p-value"
   ]
  },
  {
   "cell_type": "code",
   "execution_count": 269,
   "id": "18c56ade",
   "metadata": {},
   "outputs": [
    {
     "data": {
      "text/html": [
       "<div>\n",
       "<style scoped>\n",
       "    .dataframe tbody tr th:only-of-type {\n",
       "        vertical-align: middle;\n",
       "    }\n",
       "\n",
       "    .dataframe tbody tr th {\n",
       "        vertical-align: top;\n",
       "    }\n",
       "\n",
       "    .dataframe thead th {\n",
       "        text-align: right;\n",
       "    }\n",
       "</style>\n",
       "<table border=\"1\" class=\"dataframe\">\n",
       "  <thead>\n",
       "    <tr style=\"text-align: right;\">\n",
       "      <th></th>\n",
       "      <th>Sr no.</th>\n",
       "      <th>Before</th>\n",
       "      <th>After</th>\n",
       "    </tr>\n",
       "  </thead>\n",
       "  <tbody>\n",
       "    <tr>\n",
       "      <th>0</th>\n",
       "      <td>1</td>\n",
       "      <td>39</td>\n",
       "      <td>44</td>\n",
       "    </tr>\n",
       "    <tr>\n",
       "      <th>1</th>\n",
       "      <td>2</td>\n",
       "      <td>25</td>\n",
       "      <td>25</td>\n",
       "    </tr>\n",
       "    <tr>\n",
       "      <th>2</th>\n",
       "      <td>3</td>\n",
       "      <td>39</td>\n",
       "      <td>39</td>\n",
       "    </tr>\n",
       "    <tr>\n",
       "      <th>3</th>\n",
       "      <td>4</td>\n",
       "      <td>6</td>\n",
       "      <td>13</td>\n",
       "    </tr>\n",
       "    <tr>\n",
       "      <th>4</th>\n",
       "      <td>5</td>\n",
       "      <td>40</td>\n",
       "      <td>44</td>\n",
       "    </tr>\n",
       "  </tbody>\n",
       "</table>\n",
       "</div>"
      ],
      "text/plain": [
       "   Sr no.  Before  After\n",
       "0       1      39     44\n",
       "1       2      25     25\n",
       "2       3      39     39\n",
       "3       4       6     13\n",
       "4       5      40     44"
      ]
     },
     "execution_count": 269,
     "metadata": {},
     "output_type": "execute_result"
    }
   ],
   "source": [
    "from scipy.stats import ttest_rel\n",
    "\n",
    "data=pd.read_csv(r\"D:\\DSBA\\The course\\14-AS-project\\Aquarius_gym.csv\")\n",
    "\n",
    "data.head()"
   ]
  },
  {
   "cell_type": "code",
   "execution_count": null,
   "id": "0afb9e23",
   "metadata": {},
   "outputs": [],
   "source": [
    "data.()"
   ]
  },
  {
   "cell_type": "code",
   "execution_count": 273,
   "id": "945f70fb",
   "metadata": {},
   "outputs": [
    {
     "data": {
      "text/plain": [
       "Ttest_relResult(statistic=-19.322619811082458, pvalue=2.2920419252511966e-35)"
      ]
     },
     "execution_count": 273,
     "metadata": {},
     "output_type": "execute_result"
    }
   ],
   "source": [
    "result=ttest_rel(data[\"Before\"],data['After'])\n",
    "result"
   ]
  },
  {
   "cell_type": "markdown",
   "id": "cd44a200",
   "metadata": {},
   "source": [
    "### Step 5 :Calculate the test statistics and p-value"
   ]
  },
  {
   "cell_type": "code",
   "execution_count": 274,
   "id": "09927453",
   "metadata": {},
   "outputs": [
    {
     "name": "stdout",
     "output_type": "stream",
     "text": [
      "At 95% level of significance, there is significant difference between the mean numbers of push ups made by a candidate before and after enrolling for the program, hence the null hypothesis is rejected\n"
     ]
    }
   ],
   "source": [
    "if result.pvalue>0.05:\n",
    "    print(\"At 95% level of significance, there is no difference between the mean numbers of push ups made by a candidate before and after enrolling for the program, hence the null hypothesis can't be rejected.\")\n",
    "else :\n",
    "    print(\"At 95% level of significance, there is significant difference between the mean numbers of push ups made by a candidate before and after enrolling for the program, hence the null hypothesis is rejected\")"
   ]
  },
  {
   "cell_type": "code",
   "execution_count": null,
   "id": "ee767b54",
   "metadata": {},
   "outputs": [],
   "source": []
  },
  {
   "cell_type": "markdown",
   "id": "af05350d",
   "metadata": {},
   "source": [
    "### Problem 7:\n",
    " \n",
    "### Dental implant data: The hardness of metal implant in dental cavities depends on multiple factors, such as the method of implant, the temperature at which the metal is treated, the alloy used as well as on the dentists who may favour one method above another and may work better in his/her favourite method. The response is the variable of interest.\n",
    "\n",
    "\n"
   ]
  },
  {
   "cell_type": "markdown",
   "id": "ce8a2215",
   "metadata": {},
   "source": [
    "\n",
    "### 1.\tTest whether there is any difference among the dentists on the implant hardness. State the null and alternative hypotheses. Note that both types of alloys cannot be considered together. You must state the null and alternative hypotheses separately for the two types of alloys.?"
   ]
  },
  {
   "cell_type": "code",
   "execution_count": 50,
   "id": "89f44380",
   "metadata": {},
   "outputs": [
    {
     "data": {
      "text/html": [
       "<div>\n",
       "<style scoped>\n",
       "    .dataframe tbody tr th:only-of-type {\n",
       "        vertical-align: middle;\n",
       "    }\n",
       "\n",
       "    .dataframe tbody tr th {\n",
       "        vertical-align: top;\n",
       "    }\n",
       "\n",
       "    .dataframe thead th {\n",
       "        text-align: right;\n",
       "    }\n",
       "</style>\n",
       "<table border=\"1\" class=\"dataframe\">\n",
       "  <thead>\n",
       "    <tr style=\"text-align: right;\">\n",
       "      <th></th>\n",
       "      <th>Dentist</th>\n",
       "      <th>Method</th>\n",
       "      <th>Alloy</th>\n",
       "      <th>Temp</th>\n",
       "      <th>Response</th>\n",
       "    </tr>\n",
       "  </thead>\n",
       "  <tbody>\n",
       "    <tr>\n",
       "      <th>0</th>\n",
       "      <td>1</td>\n",
       "      <td>1</td>\n",
       "      <td>1</td>\n",
       "      <td>1500</td>\n",
       "      <td>813</td>\n",
       "    </tr>\n",
       "    <tr>\n",
       "      <th>1</th>\n",
       "      <td>1</td>\n",
       "      <td>1</td>\n",
       "      <td>1</td>\n",
       "      <td>1600</td>\n",
       "      <td>792</td>\n",
       "    </tr>\n",
       "    <tr>\n",
       "      <th>2</th>\n",
       "      <td>1</td>\n",
       "      <td>1</td>\n",
       "      <td>1</td>\n",
       "      <td>1700</td>\n",
       "      <td>792</td>\n",
       "    </tr>\n",
       "    <tr>\n",
       "      <th>3</th>\n",
       "      <td>1</td>\n",
       "      <td>1</td>\n",
       "      <td>2</td>\n",
       "      <td>1500</td>\n",
       "      <td>907</td>\n",
       "    </tr>\n",
       "    <tr>\n",
       "      <th>4</th>\n",
       "      <td>1</td>\n",
       "      <td>1</td>\n",
       "      <td>2</td>\n",
       "      <td>1600</td>\n",
       "      <td>792</td>\n",
       "    </tr>\n",
       "  </tbody>\n",
       "</table>\n",
       "</div>"
      ],
      "text/plain": [
       "   Dentist  Method  Alloy  Temp  Response\n",
       "0        1       1      1  1500       813\n",
       "1        1       1      1  1600       792\n",
       "2        1       1      1  1700       792\n",
       "3        1       1      2  1500       907\n",
       "4        1       1      2  1600       792"
      ]
     },
     "execution_count": 50,
     "metadata": {},
     "output_type": "execute_result"
    }
   ],
   "source": [
    "dental=pd.read_excel(r\"D:\\DSBA\\The course\\14-AS-project\\Dental Hardness data.xlsx\",sheet_name='Data')\n",
    "dental.head()"
   ]
  },
  {
   "cell_type": "code",
   "execution_count": 51,
   "id": "2ee0e189",
   "metadata": {},
   "outputs": [
    {
     "name": "stdout",
     "output_type": "stream",
     "text": [
      "<class 'pandas.core.frame.DataFrame'>\n",
      "RangeIndex: 90 entries, 0 to 89\n",
      "Data columns (total 5 columns):\n",
      " #   Column    Non-Null Count  Dtype\n",
      "---  ------    --------------  -----\n",
      " 0   Dentist   90 non-null     int64\n",
      " 1   Method    90 non-null     int64\n",
      " 2   Alloy     90 non-null     int64\n",
      " 3   Temp      90 non-null     int64\n",
      " 4   Response  90 non-null     int64\n",
      "dtypes: int64(5)\n",
      "memory usage: 3.6 KB\n"
     ]
    }
   ],
   "source": [
    "dental.info()"
   ]
  },
  {
   "cell_type": "markdown",
   "id": "18b982f1",
   "metadata": {},
   "source": [
    "Thus the original data is without any null value. However, categorical data such as dentist,method,alloy and temp is assumed to be integer which needs to be changed to categorical type"
   ]
  },
  {
   "cell_type": "code",
   "execution_count": 54,
   "id": "9095aad8",
   "metadata": {},
   "outputs": [],
   "source": [
    "#chaning the integer data type to categorical type\n",
    "dental['Dentist']=dental['Dentist'].astype('category')\n",
    "dental['Method']=dental['Method'].astype('category')\n",
    "dental['Alloy']=dental['Alloy'].astype('category')\n",
    "dental['Temp']=dental['Temp'].astype('category')#since there are only three available values, it is more of the nature of categorical variable than a continous one"
   ]
  },
  {
   "cell_type": "code",
   "execution_count": 53,
   "id": "c0a29daa",
   "metadata": {},
   "outputs": [
    {
     "name": "stdout",
     "output_type": "stream",
     "text": [
      "<class 'pandas.core.frame.DataFrame'>\n",
      "RangeIndex: 90 entries, 0 to 89\n",
      "Data columns (total 5 columns):\n",
      " #   Column    Non-Null Count  Dtype   \n",
      "---  ------    --------------  -----   \n",
      " 0   Dentist   90 non-null     category\n",
      " 1   Method    90 non-null     category\n",
      " 2   Alloy     90 non-null     category\n",
      " 3   Temp      90 non-null     category\n",
      " 4   Response  90 non-null     int64   \n",
      "dtypes: category(4), int64(1)\n",
      "memory usage: 1.8 KB\n"
     ]
    }
   ],
   "source": [
    "dental.info()"
   ]
  },
  {
   "cell_type": "code",
   "execution_count": 58,
   "id": "d976519c",
   "metadata": {},
   "outputs": [
    {
     "data": {
      "text/plain": [
       "1    45\n",
       "2    45\n",
       "Name: Alloy, dtype: int64"
      ]
     },
     "execution_count": 58,
     "metadata": {},
     "output_type": "execute_result"
    }
   ],
   "source": [
    "dental.Alloy.value_counts()"
   ]
  },
  {
   "cell_type": "code",
   "execution_count": 88,
   "id": "6d27c034",
   "metadata": {},
   "outputs": [],
   "source": [
    "#since both the types of alloys can not be used together and as per the requirement of analysing  for two different alloy types separately, segregating the sample based on types of alloys used\n",
    "dental_alloy1=dental[dental.Alloy==1]\n",
    "dental_alloy2=dental[dental.Alloy==2]\n",
    " "
   ]
  },
  {
   "cell_type": "code",
   "execution_count": 56,
   "id": "447e94de",
   "metadata": {},
   "outputs": [
    {
     "data": {
      "text/plain": [
       "1    9\n",
       "2    9\n",
       "3    9\n",
       "4    9\n",
       "5    9\n",
       "Name: Dentist, dtype: int64"
      ]
     },
     "execution_count": 56,
     "metadata": {},
     "output_type": "execute_result"
    }
   ],
   "source": [
    "dental_alloy1.Dentist.value_counts()"
   ]
  },
  {
   "cell_type": "code",
   "execution_count": 57,
   "id": "588cefe7",
   "metadata": {},
   "outputs": [
    {
     "data": {
      "text/plain": [
       "1    9\n",
       "2    9\n",
       "3    9\n",
       "4    9\n",
       "5    9\n",
       "Name: Dentist, dtype: int64"
      ]
     },
     "execution_count": 57,
     "metadata": {},
     "output_type": "execute_result"
    }
   ],
   "source": [
    "dental_alloy2.Dentist.value_counts()"
   ]
  },
  {
   "cell_type": "markdown",
   "id": "c7a671f1",
   "metadata": {},
   "source": [
    "## Postulating the Null and Alternate Hypothesis\n",
    "\n",
    "### For alloy type 1\n",
    "\n",
    "$H_0$: The mean implant hardness level for all five dentist are the same  while using alloy type 1\n",
    "\n",
    "$H_1$: The mean implant hardness level is different for atleast one of the five dentists while using alloy type 1\n",
    "\n"
   ]
  },
  {
   "cell_type": "markdown",
   "id": "46572191",
   "metadata": {},
   "source": [
    "### For alloy type 2\n",
    "\n",
    "$H_0$: The mean implant hardness level for all five dentist are the same  while using alloy type 2\n",
    "\n",
    "$H_1$: The mean implant hardness level is different for atleast one of the five dentists while using alloy type 2\n",
    "\n"
   ]
  },
  {
   "cell_type": "markdown",
   "id": "b1f6a5a3",
   "metadata": {},
   "source": [
    "### 2.\tBefore the hypotheses may be tested, state the required assumptions. Are the assumptions fulfilled? Comment separately on both alloy types.? "
   ]
  },
  {
   "cell_type": "markdown",
   "id": "21369ca7",
   "metadata": {},
   "source": [
    "#### There are two assumptions :\n",
    " 1.that the data was drawn from a normal distribution \n",
    " 2.that all input samples are from populations with equal variances\n",
    " \n",
    "### For alloy type 1"
   ]
  },
  {
   "cell_type": "code",
   "execution_count": 95,
   "id": "92f08589",
   "metadata": {},
   "outputs": [],
   "source": [
    "dentist_1_alloy1 = dental_alloy1[dental_alloy1['Dentist']==1]['Response']\n",
    "dentist_2_alloy1 = dental_alloy1[dental_alloy1['Dentist']==2]['Response']\n",
    "dentist_3_alloy1 = dental_alloy1[dental_alloy1['Dentist']==3]['Response']\n",
    "dentist_4_alloy1 = dental_alloy1[dental_alloy1['Dentist']==4]['Response']\n",
    "dentist_5_alloy1 = dental_alloy1[dental_alloy1['Dentist']==5]['Response']\n"
   ]
  },
  {
   "cell_type": "code",
   "execution_count": 103,
   "id": "31be8642",
   "metadata": {},
   "outputs": [
    {
     "name": "stdout",
     "output_type": "stream",
     "text": [
      "ShapiroResult(statistic=0.9113543033599854, pvalue=0.3254694640636444)\n",
      "ShapiroResult(statistic=0.9642463326454163, pvalue=0.8415467143058777)\n",
      "ShapiroResult(statistic=0.8721171617507935, pvalue=0.12953592836856842)\n",
      "ShapiroResult(statistic=0.8368973135948181, pvalue=0.05333660915493965)\n",
      "ShapiroResult(statistic=0.8534294962882996, pvalue=0.08127772063016891)\n",
      "\n",
      "Since the pvalue for none of the dentist using alloy type 1 for implanting was more than the significance level, it is assumed that the samples were drawn from normal distribution\n"
     ]
    }
   ],
   "source": [
    "#The Shapiro-Wilk test tests the null hypothesis that the data was drawn from a normal distribution.\n",
    "#alpha = 0.05\n",
    "\n",
    "print(stats.shapiro(dentist_1_alloy1))\n",
    "print(stats.shapiro(dentist_2_alloy1))\n",
    "print(stats.shapiro(dentist_3_alloy1))\n",
    "print(stats.shapiro(dentist_4_alloy1))\n",
    "print(stats.shapiro(dentist_5_alloy1))\n",
    "\n",
    "print()\n",
    "\n",
    "print(\"Since the pvalue for none of the dentist using alloy type 1 for implanting was more than the significance level, it is assumed that the samples were drawn from normal distribution\")\n",
    "\n",
    "\n"
   ]
  },
  {
   "cell_type": "markdown",
   "id": "89b7ae3e",
   "metadata": {},
   "source": []
  },
  {
   "cell_type": "code",
   "execution_count": 106,
   "id": "13b4db7a",
   "metadata": {},
   "outputs": [
    {
     "name": "stdout",
     "output_type": "stream",
     "text": [
      "LeveneResult(statistic=1.3847146992797106, pvalue=0.2565537418543795)\n",
      "Since the p-value for the levene test is more than the significance level, we fail to reject the null hypothesis that the samples are having different levels of variance\n"
     ]
    }
   ],
   "source": [
    "#Homogeniety\n",
    "#The Levene test tests the null hypothesis that all input samples are from populations with equal variances.\n",
    "\n",
    "#alpha = 0.05\n",
    "print(stats.levene(dentist_1_alloy1,dentist_2_alloy1,dentist_3_alloy1,dentist_4_alloy1,dentist_5_alloy1))\n",
    "\n",
    "print(\"Since the p-value for the levene test is more than the significance level, we fail to reject the null hypothesis that the samples are having different levels of variance\")\n",
    "\n"
   ]
  },
  {
   "cell_type": "markdown",
   "id": "b7dc8c08",
   "metadata": {},
   "source": [
    "### For alloy type 2"
   ]
  },
  {
   "cell_type": "code",
   "execution_count": 107,
   "id": "a19b1efe",
   "metadata": {},
   "outputs": [],
   "source": [
    "dentist_1_alloy2 = dental_alloy2[dental_alloy2['Dentist']==1]['Response']\n",
    "dentist_2_alloy2 = dental_alloy2[dental_alloy2['Dentist']==2]['Response']\n",
    "dentist_3_alloy2 = dental_alloy2[dental_alloy2['Dentist']==3]['Response']\n",
    "dentist_4_alloy2 = dental_alloy2[dental_alloy2['Dentist']==4]['Response']\n",
    "dentist_5_alloy2 = dental_alloy2[dental_alloy2['Dentist']==5]['Response']"
   ]
  },
  {
   "cell_type": "code",
   "execution_count": 121,
   "id": "e0bac517",
   "metadata": {},
   "outputs": [
    {
     "name": "stdout",
     "output_type": "stream",
     "text": [
      "ShapiroResult(statistic=0.9039730429649353, pvalue=0.27593860030174255)\n",
      "ShapiroResult(statistic=0.9392002820968628, pvalue=0.5735067129135132)\n",
      "ShapiroResult(statistic=0.9340969920158386, pvalue=0.5213066339492798)\n",
      "ShapiroResult(statistic=0.7613219618797302, pvalue=0.007332703098654747)\n",
      "ShapiroResult(statistic=0.9131584167480469, pvalue=0.33861100673675537)\n",
      "Testing Anderson Darling Test for dentist_4_alloy2 since the shapiro test failed here\n",
      "AndersonResult(statistic=0.8877633297431249, critical_values=array([0.507, 0.578, 0.693, 0.808, 0.961]), significance_level=array([15. , 10. ,  5. ,  2.5,  1. ]))\n",
      "Thus the Anderson darling test has confirmed. Hence, all samples are brought from normal distribution\n"
     ]
    }
   ],
   "source": [
    "#The Shapiro-Wilk test tests the null hypothesis that the data was drawn from a normal distribution.\n",
    "#alpha = 0.05\n",
    "\n",
    "print(stats.shapiro(dentist_1_alloy2))\n",
    "print(stats.shapiro(dentist_2_alloy2))\n",
    "print(stats.shapiro(dentist_3_alloy2))\n",
    "print(stats.shapiro(dentist_4_alloy2))\n",
    "print(stats.shapiro(dentist_5_alloy2))\n",
    "\n",
    "print(\"Testing Anderson Darling Test for dentist_4_alloy2 since the shapiro test failed here\")\n",
    "##Anderson Darling Test if Shapiro fails\n",
    "print(stats.anderson(dentist_4_alloy2,dist='norm'))\n",
    "\n",
    "print(\"Thus the Anderson darling test has confirmed. Hence, all samples are brought from normal distribution\")\n",
    "\n",
    "\n"
   ]
  },
  {
   "cell_type": "code",
   "execution_count": 122,
   "id": "f4db555a",
   "metadata": {},
   "outputs": [
    {
     "name": "stdout",
     "output_type": "stream",
     "text": [
      "LeveneResult(statistic=1.4456166464566966, pvalue=0.23686777576324952)\n",
      "Since the p-value for the levene test is more than the significance level, we fail to reject the null hypothesis that the samples are having different levels of variance\n"
     ]
    }
   ],
   "source": [
    "#Homogeniety\n",
    "#The Levene test tests the null hypothesis that all input samples are from populations with equal variances.\n",
    "\n",
    "#alpha = 0.05\n",
    "print(stats.levene(dentist_1_alloy2,dentist_2_alloy2,dentist_3_alloy2,dentist_4_alloy2,dentist_5_alloy2))\n",
    "\n",
    "print(\"Since the p-value for the levene test is more than the significance level, we fail to reject the null hypothesis that the samples are having different levels of variance\")\n"
   ]
  },
  {
   "cell_type": "markdown",
   "id": "62a4a54b",
   "metadata": {},
   "source": [
    "### 3.\tIrrespective of your conclusion in 2, we will continue with the testing procedure. What do you conclude regarding whether implant hardness depends on dentists? Clearly state your conclusion. If the null hypothesis is rejected, is it possible to identify which pairs of dentists differ?\n"
   ]
  },
  {
   "cell_type": "markdown",
   "id": "6e2034f9",
   "metadata": {},
   "source": [
    "### For alloy type 1"
   ]
  },
  {
   "cell_type": "code",
   "execution_count": 343,
   "id": "981b301c",
   "metadata": {},
   "outputs": [
    {
     "data": {
      "text/html": [
       "<div>\n",
       "<style scoped>\n",
       "    .dataframe tbody tr th:only-of-type {\n",
       "        vertical-align: middle;\n",
       "    }\n",
       "\n",
       "    .dataframe tbody tr th {\n",
       "        vertical-align: top;\n",
       "    }\n",
       "\n",
       "    .dataframe thead th {\n",
       "        text-align: right;\n",
       "    }\n",
       "</style>\n",
       "<table border=\"1\" class=\"dataframe\">\n",
       "  <thead>\n",
       "    <tr style=\"text-align: right;\">\n",
       "      <th></th>\n",
       "      <th>df</th>\n",
       "      <th>sum_sq</th>\n",
       "      <th>mean_sq</th>\n",
       "      <th>F</th>\n",
       "      <th>PR(&gt;F)</th>\n",
       "    </tr>\n",
       "  </thead>\n",
       "  <tbody>\n",
       "    <tr>\n",
       "      <th>C(Dentist)</th>\n",
       "      <td>4.0</td>\n",
       "      <td>106683.688889</td>\n",
       "      <td>26670.922222</td>\n",
       "      <td>1.977112</td>\n",
       "      <td>0.116567</td>\n",
       "    </tr>\n",
       "    <tr>\n",
       "      <th>Residual</th>\n",
       "      <td>40.0</td>\n",
       "      <td>539593.555556</td>\n",
       "      <td>13489.838889</td>\n",
       "      <td>NaN</td>\n",
       "      <td>NaN</td>\n",
       "    </tr>\n",
       "  </tbody>\n",
       "</table>\n",
       "</div>"
      ],
      "text/plain": [
       "              df         sum_sq       mean_sq         F    PR(>F)\n",
       "C(Dentist)   4.0  106683.688889  26670.922222  1.977112  0.116567\n",
       "Residual    40.0  539593.555556  13489.838889       NaN       NaN"
      ]
     },
     "execution_count": 343,
     "metadata": {},
     "output_type": "execute_result"
    }
   ],
   "source": [
    "formula='Response ~ C(Dentist)'\n",
    "model=ols(formula,dental_alloy1).fit()\n",
    "aov_table=anova_lm(model)\n",
    "aov_table"
   ]
  },
  {
   "cell_type": "markdown",
   "id": "617df95c",
   "metadata": {},
   "source": [
    "**Now, we see that the corresponding p-value is greater than alpha (0.05). Thus, we $\\textbf{fail to reject}$ the $\\textbf{Null Hypothesis}$ ($H_0$). Thus the mean implant hardness level for all five dentist are the same while using alloy type 1**"
   ]
  },
  {
   "cell_type": "markdown",
   "id": "9513d088",
   "metadata": {},
   "source": [
    "### For alloy type 2"
   ]
  },
  {
   "cell_type": "code",
   "execution_count": 344,
   "id": "8fe745f3",
   "metadata": {},
   "outputs": [
    {
     "data": {
      "text/html": [
       "<div>\n",
       "<style scoped>\n",
       "    .dataframe tbody tr th:only-of-type {\n",
       "        vertical-align: middle;\n",
       "    }\n",
       "\n",
       "    .dataframe tbody tr th {\n",
       "        vertical-align: top;\n",
       "    }\n",
       "\n",
       "    .dataframe thead th {\n",
       "        text-align: right;\n",
       "    }\n",
       "</style>\n",
       "<table border=\"1\" class=\"dataframe\">\n",
       "  <thead>\n",
       "    <tr style=\"text-align: right;\">\n",
       "      <th></th>\n",
       "      <th>df</th>\n",
       "      <th>sum_sq</th>\n",
       "      <th>mean_sq</th>\n",
       "      <th>F</th>\n",
       "      <th>PR(&gt;F)</th>\n",
       "    </tr>\n",
       "  </thead>\n",
       "  <tbody>\n",
       "    <tr>\n",
       "      <th>C(Dentist)</th>\n",
       "      <td>4.0</td>\n",
       "      <td>5.679791e+04</td>\n",
       "      <td>14199.477778</td>\n",
       "      <td>0.524835</td>\n",
       "      <td>0.718031</td>\n",
       "    </tr>\n",
       "    <tr>\n",
       "      <th>Residual</th>\n",
       "      <td>40.0</td>\n",
       "      <td>1.082205e+06</td>\n",
       "      <td>27055.122222</td>\n",
       "      <td>NaN</td>\n",
       "      <td>NaN</td>\n",
       "    </tr>\n",
       "  </tbody>\n",
       "</table>\n",
       "</div>"
      ],
      "text/plain": [
       "              df        sum_sq       mean_sq         F    PR(>F)\n",
       "C(Dentist)   4.0  5.679791e+04  14199.477778  0.524835  0.718031\n",
       "Residual    40.0  1.082205e+06  27055.122222       NaN       NaN"
      ]
     },
     "execution_count": 344,
     "metadata": {},
     "output_type": "execute_result"
    }
   ],
   "source": [
    "formula='Response ~ C(Dentist)'\n",
    "model=ols(formula,dental_alloy2).fit()\n",
    "aov_table=anova_lm(model)\n",
    "aov_table"
   ]
  },
  {
   "cell_type": "markdown",
   "id": "7dc169f7",
   "metadata": {},
   "source": [
    "**Now, we see that the corresponding p-value is greater than alpha (0.05). Thus, we $\\textbf{fail to reject}$ the $\\textbf{Null Hypothesis}$ ($H_0$). Thus the mean implant hardness level for all five dentist are the same while using alloy type 2**"
   ]
  },
  {
   "cell_type": "markdown",
   "id": "89d721be",
   "metadata": {},
   "source": [
    "### 4.\tNow test whether there is any difference among the methods on the hardness of dental implant, separately for the two types of alloys. What are your conclusions? If the null hypothesis is rejected, is it possible to identify which pairs of methods differ?\n"
   ]
  },
  {
   "cell_type": "code",
   "execution_count": 113,
   "id": "bed5c900",
   "metadata": {},
   "outputs": [
    {
     "data": {
      "text/plain": [
       "1    15\n",
       "2    15\n",
       "3    15\n",
       "Name: Method, dtype: int64"
      ]
     },
     "execution_count": 113,
     "metadata": {},
     "output_type": "execute_result"
    }
   ],
   "source": [
    "dental_alloy1.Method.value_counts()"
   ]
  },
  {
   "cell_type": "markdown",
   "id": "342f68d2",
   "metadata": {},
   "source": [
    "## Postulating the Null and Alternate Hypothesis\n",
    "\n",
    "### For alloy type 1\n",
    "\n",
    "$H_0$: The mean implant hardness level for all three methods are the same  while using alloy type 1\n",
    "\n",
    "$H_1$: The mean implant hardness level is different for atleast one of the three methods while using alloy type 1\n",
    "\n"
   ]
  },
  {
   "cell_type": "code",
   "execution_count": 345,
   "id": "8ef30555",
   "metadata": {},
   "outputs": [
    {
     "data": {
      "text/html": [
       "<div>\n",
       "<style scoped>\n",
       "    .dataframe tbody tr th:only-of-type {\n",
       "        vertical-align: middle;\n",
       "    }\n",
       "\n",
       "    .dataframe tbody tr th {\n",
       "        vertical-align: top;\n",
       "    }\n",
       "\n",
       "    .dataframe thead th {\n",
       "        text-align: right;\n",
       "    }\n",
       "</style>\n",
       "<table border=\"1\" class=\"dataframe\">\n",
       "  <thead>\n",
       "    <tr style=\"text-align: right;\">\n",
       "      <th></th>\n",
       "      <th>df</th>\n",
       "      <th>sum_sq</th>\n",
       "      <th>mean_sq</th>\n",
       "      <th>F</th>\n",
       "      <th>PR(&gt;F)</th>\n",
       "    </tr>\n",
       "  </thead>\n",
       "  <tbody>\n",
       "    <tr>\n",
       "      <th>C(Method)</th>\n",
       "      <td>2.0</td>\n",
       "      <td>148472.177778</td>\n",
       "      <td>74236.088889</td>\n",
       "      <td>6.263327</td>\n",
       "      <td>0.004163</td>\n",
       "    </tr>\n",
       "    <tr>\n",
       "      <th>Residual</th>\n",
       "      <td>42.0</td>\n",
       "      <td>497805.066667</td>\n",
       "      <td>11852.501587</td>\n",
       "      <td>NaN</td>\n",
       "      <td>NaN</td>\n",
       "    </tr>\n",
       "  </tbody>\n",
       "</table>\n",
       "</div>"
      ],
      "text/plain": [
       "             df         sum_sq       mean_sq         F    PR(>F)\n",
       "C(Method)   2.0  148472.177778  74236.088889  6.263327  0.004163\n",
       "Residual   42.0  497805.066667  11852.501587       NaN       NaN"
      ]
     },
     "execution_count": 345,
     "metadata": {},
     "output_type": "execute_result"
    }
   ],
   "source": [
    "formula='Response ~ C(Method)'\n",
    "model=ols(formula,dental_alloy1).fit()\n",
    "aov_table=anova_lm(model)\n",
    "aov_table"
   ]
  },
  {
   "cell_type": "markdown",
   "id": "565f251b",
   "metadata": {},
   "source": [
    "**Now, we see that the corresponding p-value is lesseer than alpha (0.05). Thus, we $\\textbf{ reject}$ the $\\textbf{Null Hypothesis}$ ($H_0$). Thus the mean implant hardness level for one of the three methods are the different while using alloy type 1**"
   ]
  },
  {
   "cell_type": "markdown",
   "id": "582f84e3",
   "metadata": {},
   "source": [
    "### For alloy type 2\n",
    "\n",
    "$H_0$: The mean implant hardness level for all three methods are the same  while using alloy type 2\n",
    "\n",
    "$H_1$: The mean implant hardness level is different for atleast one of the three methods while using alloy type 2\n",
    "\n"
   ]
  },
  {
   "cell_type": "code",
   "execution_count": 346,
   "id": "c16ea7f0",
   "metadata": {},
   "outputs": [
    {
     "data": {
      "text/html": [
       "<div>\n",
       "<style scoped>\n",
       "    .dataframe tbody tr th:only-of-type {\n",
       "        vertical-align: middle;\n",
       "    }\n",
       "\n",
       "    .dataframe tbody tr th {\n",
       "        vertical-align: top;\n",
       "    }\n",
       "\n",
       "    .dataframe thead th {\n",
       "        text-align: right;\n",
       "    }\n",
       "</style>\n",
       "<table border=\"1\" class=\"dataframe\">\n",
       "  <thead>\n",
       "    <tr style=\"text-align: right;\">\n",
       "      <th></th>\n",
       "      <th>df</th>\n",
       "      <th>sum_sq</th>\n",
       "      <th>mean_sq</th>\n",
       "      <th>F</th>\n",
       "      <th>PR(&gt;F)</th>\n",
       "    </tr>\n",
       "  </thead>\n",
       "  <tbody>\n",
       "    <tr>\n",
       "      <th>C(Method)</th>\n",
       "      <td>2.0</td>\n",
       "      <td>499640.4</td>\n",
       "      <td>249820.200000</td>\n",
       "      <td>16.4108</td>\n",
       "      <td>0.000005</td>\n",
       "    </tr>\n",
       "    <tr>\n",
       "      <th>Residual</th>\n",
       "      <td>42.0</td>\n",
       "      <td>639362.4</td>\n",
       "      <td>15222.914286</td>\n",
       "      <td>NaN</td>\n",
       "      <td>NaN</td>\n",
       "    </tr>\n",
       "  </tbody>\n",
       "</table>\n",
       "</div>"
      ],
      "text/plain": [
       "             df    sum_sq        mean_sq        F    PR(>F)\n",
       "C(Method)   2.0  499640.4  249820.200000  16.4108  0.000005\n",
       "Residual   42.0  639362.4   15222.914286      NaN       NaN"
      ]
     },
     "execution_count": 346,
     "metadata": {},
     "output_type": "execute_result"
    }
   ],
   "source": [
    "formula='Response ~ C(Method)'\n",
    "model=ols(formula,dental_alloy2).fit()\n",
    "aov_table=anova_lm(model)\n",
    "aov_table"
   ]
  },
  {
   "cell_type": "markdown",
   "id": "53d729ae",
   "metadata": {},
   "source": [
    "**Now, we see that the corresponding p-value is lesserer than alpha (0.05). Thus, we $\\textbf{ reject}$ the $\\textbf{Null Hypothesis}$ ($H_0$). Thus the mean implant hardness level for one of the three methods are the different while using alloy type 2**\n",
    "\n",
    "### Thus for both the alloys the mean implant hardness level of at least one of the three methods are different."
   ]
  },
  {
   "cell_type": "markdown",
   "id": "ed11e177",
   "metadata": {},
   "source": [
    "### 5.\tNow test whether there is any difference among the temperature levels on the hardness of dental implant, separately for the two types of alloys. What are your conclusions? If the null hypothesis is rejected, is it possible to identify which levels of temperatures differ?"
   ]
  },
  {
   "cell_type": "code",
   "execution_count": 114,
   "id": "e2ed0b69",
   "metadata": {},
   "outputs": [
    {
     "data": {
      "text/plain": [
       "1500    30\n",
       "1600    30\n",
       "1700    30\n",
       "Name: Temp, dtype: int64"
      ]
     },
     "execution_count": 114,
     "metadata": {},
     "output_type": "execute_result"
    }
   ],
   "source": [
    "dental.Temp.value_counts()"
   ]
  },
  {
   "cell_type": "markdown",
   "id": "e7d3c4a4",
   "metadata": {},
   "source": [
    "## Postulating the Null and Alternate Hypothesis\n",
    "\n",
    "### For alloy type 1\n",
    "\n",
    "$H_0$: The mean implant hardness level for all three temperatures are the same  while using alloy type 1\n",
    "\n",
    "$H_1$: The mean implant hardness level is different for atleast one of the three temperatures while using alloy type 1"
   ]
  },
  {
   "cell_type": "code",
   "execution_count": 347,
   "id": "bde0ca50",
   "metadata": {},
   "outputs": [
    {
     "data": {
      "text/html": [
       "<div>\n",
       "<style scoped>\n",
       "    .dataframe tbody tr th:only-of-type {\n",
       "        vertical-align: middle;\n",
       "    }\n",
       "\n",
       "    .dataframe tbody tr th {\n",
       "        vertical-align: top;\n",
       "    }\n",
       "\n",
       "    .dataframe thead th {\n",
       "        text-align: right;\n",
       "    }\n",
       "</style>\n",
       "<table border=\"1\" class=\"dataframe\">\n",
       "  <thead>\n",
       "    <tr style=\"text-align: right;\">\n",
       "      <th></th>\n",
       "      <th>df</th>\n",
       "      <th>sum_sq</th>\n",
       "      <th>mean_sq</th>\n",
       "      <th>F</th>\n",
       "      <th>PR(&gt;F)</th>\n",
       "    </tr>\n",
       "  </thead>\n",
       "  <tbody>\n",
       "    <tr>\n",
       "      <th>C(Temp)</th>\n",
       "      <td>2.0</td>\n",
       "      <td>10154.444444</td>\n",
       "      <td>5077.222222</td>\n",
       "      <td>0.335224</td>\n",
       "      <td>0.717074</td>\n",
       "    </tr>\n",
       "    <tr>\n",
       "      <th>Residual</th>\n",
       "      <td>42.0</td>\n",
       "      <td>636122.800000</td>\n",
       "      <td>15145.780952</td>\n",
       "      <td>NaN</td>\n",
       "      <td>NaN</td>\n",
       "    </tr>\n",
       "  </tbody>\n",
       "</table>\n",
       "</div>"
      ],
      "text/plain": [
       "            df         sum_sq       mean_sq         F    PR(>F)\n",
       "C(Temp)    2.0   10154.444444   5077.222222  0.335224  0.717074\n",
       "Residual  42.0  636122.800000  15145.780952       NaN       NaN"
      ]
     },
     "execution_count": 347,
     "metadata": {},
     "output_type": "execute_result"
    }
   ],
   "source": [
    "formula='Response ~ C(Temp)'\n",
    "model=ols(formula,dental_alloy1).fit()\n",
    "aov_table=anova_lm(model)\n",
    "aov_table"
   ]
  },
  {
   "cell_type": "markdown",
   "id": "527e001f",
   "metadata": {},
   "source": [
    "**Now, we see that the corresponding p-value is greater than alpha (0.05). Thus, we $\\textbf{fail to reject}$ the $\\textbf{Null Hypothesis}$ ($H_0$). Thus the mean implant hardness level for all the three temperatures are the same while using alloy type 1**"
   ]
  },
  {
   "cell_type": "markdown",
   "id": "015fc6ec",
   "metadata": {},
   "source": [
    "### For alloy type 2\n",
    "\n",
    "$H_0$: The mean implant hardness level for all three temperatures are the same  while using alloy type 2\n",
    "\n",
    "$H_1$: The mean implant hardness level is different for atleast one of the three temperatures while using alloy type 2"
   ]
  },
  {
   "cell_type": "code",
   "execution_count": 348,
   "id": "90aa28a1",
   "metadata": {},
   "outputs": [
    {
     "data": {
      "text/html": [
       "<div>\n",
       "<style scoped>\n",
       "    .dataframe tbody tr th:only-of-type {\n",
       "        vertical-align: middle;\n",
       "    }\n",
       "\n",
       "    .dataframe tbody tr th {\n",
       "        vertical-align: top;\n",
       "    }\n",
       "\n",
       "    .dataframe thead th {\n",
       "        text-align: right;\n",
       "    }\n",
       "</style>\n",
       "<table border=\"1\" class=\"dataframe\">\n",
       "  <thead>\n",
       "    <tr style=\"text-align: right;\">\n",
       "      <th></th>\n",
       "      <th>df</th>\n",
       "      <th>sum_sq</th>\n",
       "      <th>mean_sq</th>\n",
       "      <th>F</th>\n",
       "      <th>PR(&gt;F)</th>\n",
       "    </tr>\n",
       "  </thead>\n",
       "  <tbody>\n",
       "    <tr>\n",
       "      <th>C(Temp)</th>\n",
       "      <td>2.0</td>\n",
       "      <td>9.374893e+04</td>\n",
       "      <td>46874.466667</td>\n",
       "      <td>1.883492</td>\n",
       "      <td>0.164678</td>\n",
       "    </tr>\n",
       "    <tr>\n",
       "      <th>Residual</th>\n",
       "      <td>42.0</td>\n",
       "      <td>1.045254e+06</td>\n",
       "      <td>24886.996825</td>\n",
       "      <td>NaN</td>\n",
       "      <td>NaN</td>\n",
       "    </tr>\n",
       "  </tbody>\n",
       "</table>\n",
       "</div>"
      ],
      "text/plain": [
       "            df        sum_sq       mean_sq         F    PR(>F)\n",
       "C(Temp)    2.0  9.374893e+04  46874.466667  1.883492  0.164678\n",
       "Residual  42.0  1.045254e+06  24886.996825       NaN       NaN"
      ]
     },
     "execution_count": 348,
     "metadata": {},
     "output_type": "execute_result"
    }
   ],
   "source": [
    "formula='Response ~ C(Temp)'\n",
    "model=ols(formula,dental_alloy2).fit()\n",
    "aov_table=anova_lm(model)\n",
    "aov_table"
   ]
  },
  {
   "cell_type": "markdown",
   "id": "681746e1",
   "metadata": {},
   "source": [
    "**Now, we see that the corresponding p-value is greater than alpha (0.05). Thus, we $\\textbf{fail to reject}$ the $\\textbf{Null Hypothesis}$ ($H_0$). Thus the mean implant hardness level for all the three temperatures are the same while using alloy type 2**\n",
    "\n",
    "### Thus for both the types of alloys the mean implant hardness was same for all the three temperatures."
   ]
  },
  {
   "cell_type": "markdown",
   "id": "4671e79d",
   "metadata": {},
   "source": [
    "### 6.\tConsider the interaction effect of dentist and method and comment on the interaction plot, separately for the two types of alloys?\n"
   ]
  },
  {
   "cell_type": "markdown",
   "id": "906a8435",
   "metadata": {},
   "source": [
    "We will now analyse the effect of both the treatments i.e. 'dentist' & 'methods' on the  variable 'Response'.\n",
    "**Let us check whether there is any interaction effect between the treatments.**"
   ]
  },
  {
   "cell_type": "markdown",
   "id": "9ca01091",
   "metadata": {},
   "source": [
    "### Alloy type 1"
   ]
  },
  {
   "cell_type": "code",
   "execution_count": 115,
   "id": "098d28a3",
   "metadata": {},
   "outputs": [
    {
     "data": {
      "text/plain": [
       "<AxesSubplot:xlabel='Dentist', ylabel='Response'>"
      ]
     },
     "execution_count": 115,
     "metadata": {},
     "output_type": "execute_result"
    },
    {
     "data": {
      "image/png": "[encoded data removed]",
      "text/plain": [
       "<Figure size 432x288 with 1 Axes>"
      ]
     },
     "metadata": {
      "needs_background": "light"
     },
     "output_type": "display_data"
    }
   ],
   "source": [
    "sns.pointplot(x=dental_alloy1.Dentist,y=dental_alloy1.Response,hue=dental_alloy1.Method,ci=None)"
   ]
  },
  {
   "cell_type": "markdown",
   "id": "9d123f23",
   "metadata": {},
   "source": [
    "### Thus on the basis of visual interaction plot it seems that for alloy type 1, there is some interaction effect between the dentist and method."
   ]
  },
  {
   "cell_type": "markdown",
   "id": "c27eebf7",
   "metadata": {},
   "source": [
    "### Alloy type 2"
   ]
  },
  {
   "cell_type": "code",
   "execution_count": 355,
   "id": "242077a2",
   "metadata": {},
   "outputs": [
    {
     "data": {
      "text/plain": [
       "<AxesSubplot:xlabel='Dentist', ylabel='Response'>"
      ]
     },
     "execution_count": 355,
     "metadata": {},
     "output_type": "execute_result"
    },
    {
     "data": {
      "image/png": "[encoded data removed]",
      "text/plain": [
       "<Figure size 432x288 with 1 Axes>"
      ]
     },
     "metadata": {
      "needs_background": "light"
     },
     "output_type": "display_data"
    }
   ],
   "source": [
    "sns.pointplot(x=dental_alloy2.Dentist,y=dental_alloy2.Response,hue=dental_alloy2.Method,ci=None)"
   ]
  },
  {
   "cell_type": "markdown",
   "id": "91f8dd7b",
   "metadata": {},
   "source": [
    "### Similarly  on the basis of visual interaction plot it seems that for alloy type 2, there is some interaction effect between the dentist and method."
   ]
  },
  {
   "cell_type": "markdown",
   "id": "2e10d555",
   "metadata": {},
   "source": [
    "**Thus, we can see that there is some sort of interaction between the two treatments. So, we will introduce a new term while performing the Two Way ANOVA.**"
   ]
  },
  {
   "cell_type": "markdown",
   "id": "12d600bc",
   "metadata": {},
   "source": [
    "### 7.\tNow consider the effect of both factors, dentist, and method, separately on each alloy. What do you conclude? Is it possible to identify which dentists are different, which methods are different, and which interaction levels are different?"
   ]
  },
  {
   "cell_type": "markdown",
   "id": "7a5745d6",
   "metadata": {},
   "source": [
    "### For alloy type 1"
   ]
  },
  {
   "cell_type": "code",
   "execution_count": 116,
   "id": "024e1efe",
   "metadata": {},
   "outputs": [
    {
     "data": {
      "text/html": [
       "<div>\n",
       "<style scoped>\n",
       "    .dataframe tbody tr th:only-of-type {\n",
       "        vertical-align: middle;\n",
       "    }\n",
       "\n",
       "    .dataframe tbody tr th {\n",
       "        vertical-align: top;\n",
       "    }\n",
       "\n",
       "    .dataframe thead th {\n",
       "        text-align: right;\n",
       "    }\n",
       "</style>\n",
       "<table border=\"1\" class=\"dataframe\">\n",
       "  <thead>\n",
       "    <tr style=\"text-align: right;\">\n",
       "      <th></th>\n",
       "      <th>df</th>\n",
       "      <th>sum_sq</th>\n",
       "      <th>mean_sq</th>\n",
       "      <th>F</th>\n",
       "      <th>PR(&gt;F)</th>\n",
       "    </tr>\n",
       "  </thead>\n",
       "  <tbody>\n",
       "    <tr>\n",
       "      <th>C(Dentist)</th>\n",
       "      <td>4.0</td>\n",
       "      <td>106683.688889</td>\n",
       "      <td>26670.922222</td>\n",
       "      <td>2.591255</td>\n",
       "      <td>0.051875</td>\n",
       "    </tr>\n",
       "    <tr>\n",
       "      <th>C(Method)</th>\n",
       "      <td>2.0</td>\n",
       "      <td>148472.177778</td>\n",
       "      <td>74236.088889</td>\n",
       "      <td>7.212522</td>\n",
       "      <td>0.002211</td>\n",
       "    </tr>\n",
       "    <tr>\n",
       "      <th>Residual</th>\n",
       "      <td>38.0</td>\n",
       "      <td>391121.377778</td>\n",
       "      <td>10292.667836</td>\n",
       "      <td>NaN</td>\n",
       "      <td>NaN</td>\n",
       "    </tr>\n",
       "  </tbody>\n",
       "</table>\n",
       "</div>"
      ],
      "text/plain": [
       "              df         sum_sq       mean_sq         F    PR(>F)\n",
       "C(Dentist)   4.0  106683.688889  26670.922222  2.591255  0.051875\n",
       "C(Method)    2.0  148472.177778  74236.088889  7.212522  0.002211\n",
       "Residual    38.0  391121.377778  10292.667836       NaN       NaN"
      ]
     },
     "execution_count": 116,
     "metadata": {},
     "output_type": "execute_result"
    }
   ],
   "source": [
    "formula='Response ~ C(Dentist)+ C(Method)'\n",
    "model=ols(formula,dental_alloy1).fit()\n",
    "aov_table=anova_lm(model)\n",
    "aov_table"
   ]
  },
  {
   "cell_type": "code",
   "execution_count": 117,
   "id": "957a7432",
   "metadata": {},
   "outputs": [
    {
     "data": {
      "text/html": [
       "<div>\n",
       "<style scoped>\n",
       "    .dataframe tbody tr th:only-of-type {\n",
       "        vertical-align: middle;\n",
       "    }\n",
       "\n",
       "    .dataframe tbody tr th {\n",
       "        vertical-align: top;\n",
       "    }\n",
       "\n",
       "    .dataframe thead th {\n",
       "        text-align: right;\n",
       "    }\n",
       "</style>\n",
       "<table border=\"1\" class=\"dataframe\">\n",
       "  <thead>\n",
       "    <tr style=\"text-align: right;\">\n",
       "      <th></th>\n",
       "      <th>df</th>\n",
       "      <th>sum_sq</th>\n",
       "      <th>mean_sq</th>\n",
       "      <th>F</th>\n",
       "      <th>PR(&gt;F)</th>\n",
       "    </tr>\n",
       "  </thead>\n",
       "  <tbody>\n",
       "    <tr>\n",
       "      <th>C(Dentist)</th>\n",
       "      <td>4.0</td>\n",
       "      <td>106683.688889</td>\n",
       "      <td>26670.922222</td>\n",
       "      <td>3.899638</td>\n",
       "      <td>0.011484</td>\n",
       "    </tr>\n",
       "    <tr>\n",
       "      <th>C(Method)</th>\n",
       "      <td>2.0</td>\n",
       "      <td>148472.177778</td>\n",
       "      <td>74236.088889</td>\n",
       "      <td>10.854287</td>\n",
       "      <td>0.000284</td>\n",
       "    </tr>\n",
       "    <tr>\n",
       "      <th>C(Dentist):C(Method)</th>\n",
       "      <td>8.0</td>\n",
       "      <td>185941.377778</td>\n",
       "      <td>23242.672222</td>\n",
       "      <td>3.398383</td>\n",
       "      <td>0.006793</td>\n",
       "    </tr>\n",
       "    <tr>\n",
       "      <th>Residual</th>\n",
       "      <td>30.0</td>\n",
       "      <td>205180.000000</td>\n",
       "      <td>6839.333333</td>\n",
       "      <td>NaN</td>\n",
       "      <td>NaN</td>\n",
       "    </tr>\n",
       "  </tbody>\n",
       "</table>\n",
       "</div>"
      ],
      "text/plain": [
       "                        df         sum_sq       mean_sq          F    PR(>F)\n",
       "C(Dentist)             4.0  106683.688889  26670.922222   3.899638  0.011484\n",
       "C(Method)              2.0  148472.177778  74236.088889  10.854287  0.000284\n",
       "C(Dentist):C(Method)   8.0  185941.377778  23242.672222   3.398383  0.006793\n",
       "Residual              30.0  205180.000000   6839.333333        NaN       NaN"
      ]
     },
     "execution_count": 117,
     "metadata": {},
     "output_type": "execute_result"
    }
   ],
   "source": [
    "formula='Response ~ C(Dentist)+ C(Method)+C(Dentist):C(Method)'\n",
    "model=ols(formula,dental_alloy1).fit()\n",
    "aov_table=anova_lm(model)\n",
    "aov_table"
   ]
  },
  {
   "cell_type": "markdown",
   "id": "fb8715cd",
   "metadata": {},
   "source": [
    "***Due to the inclusion of the interaction effect term, we can see a slight change in the p-value of the first two treatments as compared to the Two-Way ANOVA without the interaction effect terms.And we see that the p-value of the interaction effect term of 'Dentist' and 'Method' suggests that the Null Hypothesis is rejected in this case.Thus considering the effect of interaction, the mean level of implant hardness is different when grouped among different dentists or the methods used as also there is a significant interaction effect between these two variables on the level of response received, while using alloy type 1"
   ]
  },
  {
   "cell_type": "markdown",
   "id": "1c502f12",
   "metadata": {},
   "source": [
    "### For alloy type 2"
   ]
  },
  {
   "cell_type": "code",
   "execution_count": 118,
   "id": "66ae8e0d",
   "metadata": {},
   "outputs": [
    {
     "data": {
      "text/html": [
       "<div>\n",
       "<style scoped>\n",
       "    .dataframe tbody tr th:only-of-type {\n",
       "        vertical-align: middle;\n",
       "    }\n",
       "\n",
       "    .dataframe tbody tr th {\n",
       "        vertical-align: top;\n",
       "    }\n",
       "\n",
       "    .dataframe thead th {\n",
       "        text-align: right;\n",
       "    }\n",
       "</style>\n",
       "<table border=\"1\" class=\"dataframe\">\n",
       "  <thead>\n",
       "    <tr style=\"text-align: right;\">\n",
       "      <th></th>\n",
       "      <th>df</th>\n",
       "      <th>sum_sq</th>\n",
       "      <th>mean_sq</th>\n",
       "      <th>F</th>\n",
       "      <th>PR(&gt;F)</th>\n",
       "    </tr>\n",
       "  </thead>\n",
       "  <tbody>\n",
       "    <tr>\n",
       "      <th>C(Dentist)</th>\n",
       "      <td>4.0</td>\n",
       "      <td>56797.911111</td>\n",
       "      <td>14199.477778</td>\n",
       "      <td>0.926215</td>\n",
       "      <td>0.458933</td>\n",
       "    </tr>\n",
       "    <tr>\n",
       "      <th>C(Method)</th>\n",
       "      <td>2.0</td>\n",
       "      <td>499640.400000</td>\n",
       "      <td>249820.200000</td>\n",
       "      <td>16.295479</td>\n",
       "      <td>0.000008</td>\n",
       "    </tr>\n",
       "    <tr>\n",
       "      <th>Residual</th>\n",
       "      <td>38.0</td>\n",
       "      <td>582564.488889</td>\n",
       "      <td>15330.644444</td>\n",
       "      <td>NaN</td>\n",
       "      <td>NaN</td>\n",
       "    </tr>\n",
       "  </tbody>\n",
       "</table>\n",
       "</div>"
      ],
      "text/plain": [
       "              df         sum_sq        mean_sq          F    PR(>F)\n",
       "C(Dentist)   4.0   56797.911111   14199.477778   0.926215  0.458933\n",
       "C(Method)    2.0  499640.400000  249820.200000  16.295479  0.000008\n",
       "Residual    38.0  582564.488889   15330.644444        NaN       NaN"
      ]
     },
     "execution_count": 118,
     "metadata": {},
     "output_type": "execute_result"
    }
   ],
   "source": [
    "formula='Response ~ C(Dentist)+ C(Method)'\n",
    "model=ols(formula,dental_alloy2).fit()\n",
    "aov_table=anova_lm(model)\n",
    "aov_table"
   ]
  },
  {
   "cell_type": "code",
   "execution_count": 119,
   "id": "963ef85f",
   "metadata": {},
   "outputs": [
    {
     "data": {
      "text/html": [
       "<div>\n",
       "<style scoped>\n",
       "    .dataframe tbody tr th:only-of-type {\n",
       "        vertical-align: middle;\n",
       "    }\n",
       "\n",
       "    .dataframe tbody tr th {\n",
       "        vertical-align: top;\n",
       "    }\n",
       "\n",
       "    .dataframe thead th {\n",
       "        text-align: right;\n",
       "    }\n",
       "</style>\n",
       "<table border=\"1\" class=\"dataframe\">\n",
       "  <thead>\n",
       "    <tr style=\"text-align: right;\">\n",
       "      <th></th>\n",
       "      <th>df</th>\n",
       "      <th>sum_sq</th>\n",
       "      <th>mean_sq</th>\n",
       "      <th>F</th>\n",
       "      <th>PR(&gt;F)</th>\n",
       "    </tr>\n",
       "  </thead>\n",
       "  <tbody>\n",
       "    <tr>\n",
       "      <th>C(Dentist)</th>\n",
       "      <td>4.0</td>\n",
       "      <td>56797.911111</td>\n",
       "      <td>14199.477778</td>\n",
       "      <td>1.106152</td>\n",
       "      <td>0.371833</td>\n",
       "    </tr>\n",
       "    <tr>\n",
       "      <th>C(Method)</th>\n",
       "      <td>2.0</td>\n",
       "      <td>499640.400000</td>\n",
       "      <td>249820.200000</td>\n",
       "      <td>19.461218</td>\n",
       "      <td>0.000004</td>\n",
       "    </tr>\n",
       "    <tr>\n",
       "      <th>C(Dentist):C(Method)</th>\n",
       "      <td>8.0</td>\n",
       "      <td>197459.822222</td>\n",
       "      <td>24682.477778</td>\n",
       "      <td>1.922787</td>\n",
       "      <td>0.093234</td>\n",
       "    </tr>\n",
       "    <tr>\n",
       "      <th>Residual</th>\n",
       "      <td>30.0</td>\n",
       "      <td>385104.666667</td>\n",
       "      <td>12836.822222</td>\n",
       "      <td>NaN</td>\n",
       "      <td>NaN</td>\n",
       "    </tr>\n",
       "  </tbody>\n",
       "</table>\n",
       "</div>"
      ],
      "text/plain": [
       "                        df         sum_sq        mean_sq          F    PR(>F)\n",
       "C(Dentist)             4.0   56797.911111   14199.477778   1.106152  0.371833\n",
       "C(Method)              2.0  499640.400000  249820.200000  19.461218  0.000004\n",
       "C(Dentist):C(Method)   8.0  197459.822222   24682.477778   1.922787  0.093234\n",
       "Residual              30.0  385104.666667   12836.822222        NaN       NaN"
      ]
     },
     "execution_count": 119,
     "metadata": {},
     "output_type": "execute_result"
    }
   ],
   "source": [
    "formula='Response ~ C(Dentist)+ C(Method)+C(Dentist):C(Method)'\n",
    "model=ols(formula,dental_alloy2).fit()\n",
    "aov_table=anova_lm(model)\n",
    "aov_table"
   ]
  },
  {
   "cell_type": "markdown",
   "id": "4c9066c4",
   "metadata": {},
   "source": [
    "***Due to the inclusion of the interaction effect term, we can see a slight change in the p-value of the first two treatments as compared to the Two-Way ANOVA without the interaction effect terms.And we see that the p-value of the interaction effect term of  'Method' suggests that the Null Hypothesis is rejected in this case.Thus considering the effect of interaction, the mean level of implant hardness is different when grouped among different dentists or the methods used and the level of   interaction effect between the two variables i.e. dentis and method is not very significant while using alloy type 2."
   ]
  }
 ],
 "metadata": {
  "kernelspec": {
   "display_name": "Python 3 (ipykernel)",
   "language": "python",
   "name": "python3"
  },
  "language_info": {
   "codemirror_mode": {
    "name": "ipython",
    "version": 3
   },
   "file_extension": ".py",
   "mimetype": "text/x-python",
   "name": "python",
   "nbconvert_exporter": "python",
   "pygments_lexer": "ipython3",
   "version": "3.9.7"
  }
 },
 "nbformat": 4,
 "nbformat_minor": 5
}
